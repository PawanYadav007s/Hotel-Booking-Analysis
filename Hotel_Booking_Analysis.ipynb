{
  "nbformat": 4,
  "nbformat_minor": 0,
  "metadata": {
    "colab": {
      "private_outputs": true,
      "provenance": [],
      "collapsed_sections": [
        "vncDsAP0Gaoa",
        "FJNUwmbgGyua",
        "w6K7xa23Elo4",
        "yQaldy8SH6Dl",
        "PH-0ReGfmX4f",
        "mDgbUHAGgjLW",
        "O_i_v8NEhb9l",
        "HhfV-JJviCcP",
        "Y3lxredqlCYt",
        "3RnN4peoiCZX",
        "x71ZqKXriCWQ",
        "7hBIi_osiCS2",
        "JlHwYmJAmNHm",
        "35m5QtbWiB9F",
        "PoPl-ycgm1ru",
        "H0kj-8xxnORC",
        "nA9Y7ga8ng1Z",
        "PBTbrJXOngz2",
        "u3PMJOP6ngxN",
        "dauF4eBmngu3",
        "bKJF3rekwFvQ",
        "MSa1f5Uengrz",
        "GF8Ens_Soomf",
        "0wOQAZs5pc--",
        "K5QZ13OEpz2H",
        "lQ7QKXXCp7Bj",
        "448CDAPjqfQr",
        "KSlN3yHqYklG",
        "t6dVpIINYklI",
        "ijmpgYnKYklI",
        "-JiQyfWJYklI",
        "EM7whBJCYoAo",
        "fge-S5ZAYoAp",
        "85gYPyotYoAp",
        "RoGjAbkUYoAp",
        "4Of9eVA-YrdM",
        "iky9q4vBYrdO",
        "F6T5p64dYrdO",
        "y-Ehk30pYrdP",
        "bamQiAODYuh1",
        "QHF8YVU7Yuh3",
        "GwzvFGzlYuh3",
        "qYpmQ266Yuh3",
        "OH-pJp9IphqM",
        "bbFf2-_FphqN",
        "_ouA3fa0phqN",
        "Seke61FWphqN",
        "PIIx-8_IphqN",
        "t27r6nlMphqO",
        "r2jJGEOYphqO",
        "b0JNsNcRphqO",
        "BZR9WyysphqO",
        "jj7wYXLtphqO",
        "eZrbJ2SmphqO",
        "rFu4xreNphqO",
        "YJ55k-q6phqO",
        "gCFgpxoyphqP",
        "OVtJsKN_phqQ",
        "lssrdh5qphqQ",
        "U2RJ9gkRphqQ",
        "1M8mcRywphqQ",
        "tgIPom80phqQ",
        "JMzcOPDDphqR",
        "x-EpHcCOp1ci",
        "X_VqEhTip1ck",
        "8zGJKyg5p1ck",
        "PVzmfK_Ep1ck",
        "n3dbpmDWp1ck",
        "ylSl6qgtp1ck",
        "ZWILFDl5p1ck",
        "M7G43BXep1ck",
        "Ag9LCva-p1cl",
        "E6MkPsBcp1cl",
        "2cELzS2fp1cl",
        "3MPXvC8up1cl",
        "NC_X3p0fY2L0",
        "UV0SzAkaZNRQ",
        "YPEH6qLeZNRQ",
        "q29F0dvdveiT",
        "EXh0U9oCveiU",
        "22aHeOlLveiV",
        "JcMwzZxoAimU",
        "8G2x9gOozGDZ",
        "gCX9965dhzqZ",
        "gIfDvo9L0UH2"
      ],
      "include_colab_link": true
    },
    "kernelspec": {
      "name": "python3",
      "display_name": "Python 3"
    },
    "language_info": {
      "name": "python"
    }
  },
  "cells": [
    {
      "cell_type": "markdown",
      "metadata": {
        "id": "view-in-github",
        "colab_type": "text"
      },
      "source": [
        "<a href=\"https://colab.research.google.com/github/PawanYadav007s/Hotel-Booking-Analysis/blob/main/Hotel_Booking_Analysis.ipynb\" target=\"_parent\"><img src=\"https://colab.research.google.com/assets/colab-badge.svg\" alt=\"Open In Colab\"/></a>"
      ]
    },
    {
      "cell_type": "markdown",
      "source": [
        "# **Project Name**    -\n",
        "\n"
      ],
      "metadata": {
        "id": "vncDsAP0Gaoa"
      }
    },
    {
      "cell_type": "markdown",
      "source": [
        "##### **Project Type**    - Exploratory data analysis (EDA)\n",
        "##### **Contribution**    - Individual\n"
      ],
      "metadata": {
        "id": "beRrZCGUAJYm"
      }
    },
    {
      "cell_type": "markdown",
      "source": [
        "# **Project Summary -**"
      ],
      "metadata": {
        "id": "FJNUwmbgGyua"
      }
    },
    {
      "cell_type": "markdown",
      "source": [
        "\n",
        "**Hotel Bookings Data Analysis Project Overview:**\n",
        "\n",
        "Hotel Booking Data Analysis Project Overview:\n",
        "\n",
        "This project dives deep into a dataset covering hotel reservations from 2015 to 2017 for both city and resort hotels. The dataset contains important information like when bookings were made, how long guests stayed, their demographics, parking preferences, and more. It's crucial to mention that all personal details have been removed to ensure privacy.\n",
        "\n",
        "Reasons for Booking Cancellations: The project focuses on understanding why bookings get canceled. By looking at factors like how early bookings were made, food preferences, and the type of customers, we aim to discover why cancellations happen. The goal is to create strategies to reduce cancellations, making customers happier and increasing hotel revenue.\n",
        "\n",
        "Best Time to Book a Hotel: Timing matters in the hotel industry. This analysis aims to find the best times for hotel bookings by studying past trends, lead times, and seasonal changes. This helps customers book at the right time and gives hotels guidance on managing resources during busy periods.\n",
        "\n",
        "Peak Season Analysis: Knowing peak seasons is essential for hotels to run smoothly. The analysis explores the connection between peak seasons and factors like customer demographics, room preferences, and booking methods. This information helps hotels tailor their services and marketing for peak times, maximizing both revenue and guest satisfaction.\n",
        "\n",
        "Reducing Cancellations and Increasing Revenue: The main goal is to provide practical suggestions for hotels. Using the insights gained, the project suggests ways to reduce booking cancellations, including better customer engagement, improved booking experiences, and targeted marketing. It also aims to help hotels increase overall revenue by optimizing booking processes.\n",
        "\n",
        "Data Visualization: To make the findings easy to understand and act upon, we use advanced data visualization techniques. Charts and graphs present the results in a way that everyone can comprehend, empowering decision-makers.\n",
        "\n",
        "In summary, the Hotel Booking Analysis project is not just about numbers. It aims to uncover the stories behind the data. By understanding guest behavior, preferences, and external factors influencing bookings, the analysis equips hotel management with the knowledge to navigate the ever-changing hospitality industry successfully. It's a comprehensive effort to turn raw data into strategic insights, ensuring a more efficient and profitable future for both city and resort hotels."
      ],
      "metadata": {
        "id": "F6v_1wHtG2nS"
      }
    },
    {
      "cell_type": "markdown",
      "source": [
        "# **GitHub Link -**"
      ],
      "metadata": {
        "id": "w6K7xa23Elo4"
      }
    },
    {
      "cell_type": "markdown",
      "source": [
        "https://github.com/PawanYadav007s/Hotel-Booking-Analysis"
      ],
      "metadata": {
        "id": "h1o69JH3Eqqn"
      }
    },
    {
      "cell_type": "markdown",
      "source": [
        "#### **Define Your Business Objective?**"
      ],
      "metadata": {
        "id": "PH-0ReGfmX4f"
      }
    },
    {
      "cell_type": "markdown",
      "source": [
        "\n",
        "\n",
        "Objectives for Hotel Booking Data Analysis Project: **bold text**\n",
        "\n",
        "**Cancellation Pattern Recognition:**\n",
        "\n",
        "  Identify and understand patterns related to booking cancellations through exploratory data analysis.\n",
        "  Determine the impact of lead time, meal preferences, and customer types on booking cancellations.\n",
        "  Establish a framework for recognizing and categorizing cancellation reasons.\n",
        "\n",
        "**Optimal Booking Timing Determination:**\n",
        "\n",
        "  Analyze historical booking data to identify peak times and trends for hotel reservations.\n",
        "  Determine optimal booking periods based on lead times, seasonal variations, and historical trends.\n",
        "  Provide actionable insights for customers to optimize their booking timing.\n",
        "\n",
        "**Peak Season and Customer Behavior Analysis:**\n",
        "\n",
        "  Explore the relationship between peak seasons and customer demographics, room preferences, and booking channels.\n",
        "  Identify key factors influencing customer behavior during peak seasons.\n",
        "  Provide hotels with tailored strategies to align services with peak season demands.\n",
        "\n",
        "\n",
        "**Revenue Optimization Measures:**\n",
        "\n",
        "  Provide concrete measures for hotels to optimize revenue through effective booking management.\n",
        "  Explore opportunities for upselling and cross-selling during the booking process.\n",
        "  Recommend strategies for maximizing revenue while maintaining customer satisfaction.\n",
        "\n",
        "**Data Visualization for Decision-Making:**\n",
        "\n",
        "  Utilize sophisticated data visualization techniques to present findings in an easily understandable format.\n",
        "  Create visualizations such as charts and graphs to facilitate informed decision-making.\n",
        "  Empower stakeholders with clear insights to guide strategic decisions.\n",
        "\n",
        "**Privacy and Compliance Assurance:**\n",
        "\n",
        "  Ensure all personally identifying information is removed from the dataset to uphold privacy.\n",
        "  Adhere to data protection regulations and industry compliance standards.\n",
        "  Establish protocols for ongoing data privacy and compliance throughout the analysis.\n",
        "\n",
        "**Documentation and Knowledge Transfer:**\n",
        "\n",
        "  Document the entire exploratory data analysis process for future reference.\n",
        "  Facilitate knowledge transfer by creating comprehensive documentation on methodologies and findings.\n",
        "  Ensure that insights are easily understandable and accessible to stakeholders.\n",
        "  By addressing these objectives, the Hotel Booking Data Analysis project aims to provide a thorough understanding of booking dynamics, reduce cancellations, optimize revenue, and equip hotel management with actionable insights for strategic decision-making."
      ],
      "metadata": {
        "id": "PhDvGCAqmjP1"
      }
    },
    {
      "cell_type": "markdown",
      "source": [
        "# **General Guidelines** : -  "
      ],
      "metadata": {
        "id": "mDgbUHAGgjLW"
      }
    },
    {
      "cell_type": "markdown",
      "source": [
        "1.   Well-structured, formatted, and commented code is required.\n",
        "2.   Exception Handling, Production Grade Code & Deployment Ready Code will be a plus. Those students will be awarded some additional credits.\n",
        "     \n",
        "     The additional credits will have advantages over other students during Star Student selection.\n",
        "       \n",
        "             [ Note: - Deployment Ready Code is defined as, the whole .ipynb notebook should be executable in one go\n",
        "                       without a single error logged. ]\n",
        "\n",
        "3.   Each and every logic should have proper comments.\n",
        "4. You may add as many number of charts you want. Make Sure for each and every chart the following format should be answered.\n",
        "        \n",
        "\n",
        "```\n",
        "# Chart visualization code\n",
        "```\n",
        "            \n",
        "\n",
        "*   Why did you pick the specific chart?\n",
        "*   What is/are the insight(s) found from the chart?\n",
        "* Will the gained insights help creating a positive business impact?\n",
        "Are there any insights that lead to negative growth? Justify with specific reason.\n",
        "\n",
        "5. You have to create at least 20 logical & meaningful charts having important insights.\n",
        "\n",
        "\n",
        "[ Hints : - Do the Vizualization in  a structured way while following \"UBM\" Rule.\n",
        "\n",
        "U - Univariate Analysis,\n",
        "\n",
        "B - Bivariate Analysis (Numerical - Categorical, Numerical - Numerical, Categorical - Categorical)\n",
        "\n",
        "M - Multivariate Analysis\n",
        " ]\n",
        "\n",
        "\n",
        "\n"
      ],
      "metadata": {
        "id": "ZrxVaUj-hHfC"
      }
    },
    {
      "cell_type": "markdown",
      "source": [
        "# ***Let's Begin !***"
      ],
      "metadata": {
        "id": "O_i_v8NEhb9l"
      }
    },
    {
      "cell_type": "markdown",
      "source": [
        "## ***1. Know Your Data***"
      ],
      "metadata": {
        "id": "HhfV-JJviCcP"
      }
    },
    {
      "cell_type": "markdown",
      "source": [
        "### Import Libraries"
      ],
      "metadata": {
        "id": "Y3lxredqlCYt"
      }
    },
    {
      "cell_type": "code",
      "source": [
        "# Import Libraries\n",
        "\n",
        "import pandas as pd\n",
        "import numpy as np\n",
        "import matplotlib.pyplot as plt\n",
        "import seaborn as sns\n",
        "import warnings\n",
        "warnings.filterwarnings('ignore')"
      ],
      "metadata": {
        "id": "M8Vqi-pPk-HR"
      },
      "execution_count": null,
      "outputs": []
    },
    {
      "cell_type": "markdown",
      "source": [
        "### Dataset Loading"
      ],
      "metadata": {
        "id": "3RnN4peoiCZX"
      }
    },
    {
      "cell_type": "code",
      "source": [
        "from google.colab import drive\n",
        "drive.mount('/content/drive')"
      ],
      "metadata": {
        "id": "CdCG76dfvVnf"
      },
      "execution_count": null,
      "outputs": []
    },
    {
      "cell_type": "code",
      "source": [
        "# Load Dataset\n",
        "\n",
        "df=pd.read_csv(\"/content/drive/MyDrive/csv/Hotel Bookings.csv\")"
      ],
      "metadata": {
        "id": "4CkvbW_SlZ_R"
      },
      "execution_count": null,
      "outputs": []
    },
    {
      "cell_type": "markdown",
      "source": [
        "### Dataset First View"
      ],
      "metadata": {
        "id": "x71ZqKXriCWQ"
      }
    },
    {
      "cell_type": "code",
      "source": [
        "# Dataset First Look\n",
        "\n",
        "df.head()"
      ],
      "metadata": {
        "id": "LWNFOSvLl09H"
      },
      "execution_count": null,
      "outputs": []
    },
    {
      "cell_type": "code",
      "source": [
        "df.tail()"
      ],
      "metadata": {
        "id": "l10IM_X_3hAp"
      },
      "execution_count": null,
      "outputs": []
    },
    {
      "cell_type": "markdown",
      "source": [
        "### Dataset Rows & Columns count"
      ],
      "metadata": {
        "id": "7hBIi_osiCS2"
      }
    },
    {
      "cell_type": "code",
      "source": [
        "# Dataset Rows & Columns count\n",
        "\n",
        "df.shape\n"
      ],
      "metadata": {
        "id": "Kllu7SJgmLij"
      },
      "execution_count": null,
      "outputs": []
    },
    {
      "cell_type": "markdown",
      "source": [
        "The given dataset has 119390 Rows and 32 Columns"
      ],
      "metadata": {
        "id": "KsNVfeDonK2P"
      }
    },
    {
      "cell_type": "markdown",
      "source": [
        "### Dataset Information"
      ],
      "metadata": {
        "id": "JlHwYmJAmNHm"
      }
    },
    {
      "cell_type": "code",
      "source": [
        "# Dataset Info\n",
        "\n",
        "df.info()\n"
      ],
      "metadata": {
        "id": "e9hRXRi6meOf"
      },
      "execution_count": null,
      "outputs": []
    },
    {
      "cell_type": "markdown",
      "source": [
        "#### Duplicate Values"
      ],
      "metadata": {
        "id": "35m5QtbWiB9F"
      }
    },
    {
      "cell_type": "code",
      "source": [
        "# Dataset Duplicate Value Count\n",
        "\n",
        "duplicate_counts =df.duplicated()\n",
        "\n",
        "print(duplicate_counts.value_counts())\n",
        "\n",
        "\n",
        "        ## OR ##\n",
        "\n",
        "\n",
        "len(df[df.duplicated()])"
      ],
      "metadata": {
        "id": "1sLdpKYkmox0"
      },
      "execution_count": null,
      "outputs": []
    },
    {
      "cell_type": "markdown",
      "source": [
        "The dataset contains 31944 duplicate rows"
      ],
      "metadata": {
        "id": "RgfAnKAdncRy"
      }
    },
    {
      "cell_type": "markdown",
      "source": [
        "#### Missing Values/Null Values"
      ],
      "metadata": {
        "id": "PoPl-ycgm1ru"
      }
    },
    {
      "cell_type": "code",
      "source": [
        "# Missing Values/Null Values Count\n",
        "\n",
        "df.isnull().sum()"
      ],
      "metadata": {
        "id": "GgHWkxvamxVg"
      },
      "execution_count": null,
      "outputs": []
    },
    {
      "cell_type": "markdown",
      "source": [
        "while checking null values , there are many columns which contains null/missing values"
      ],
      "metadata": {
        "id": "RMG6PtSwnPJR"
      }
    },
    {
      "cell_type": "code",
      "source": [
        "#creating a copy of data set\n",
        "df1=df.copy()"
      ],
      "metadata": {
        "id": "wjJ1MPIpoVMM"
      },
      "execution_count": null,
      "outputs": []
    },
    {
      "cell_type": "markdown",
      "source": [
        "### What did you know about your dataset?"
      ],
      "metadata": {
        "id": "H0kj-8xxnORC"
      }
    },
    {
      "cell_type": "markdown",
      "source": [
        "\n",
        "The given dataset gives booking information of two types hotet:\n",
        "\n",
        "* City Hotel\n",
        "* Resort Hotel\n",
        "\n",
        "It gives us customer details like when did the customer booked the hotel,in which year,month,week number customer arrived and what was his total stay in the hotel.What type of meal customer opted and what type of room was alloted.\n",
        "it also gives us some personal information like what is the customer type,from which country customer belongs to,was he/she alone or in a group,how many children/babies were there\n",
        "\n",
        "\n",
        "\"I am performing exploratory data analysis on a hotel booking dataset. The dataset contains information on reservations, customer demographics, and booking patterns. The goal is to uncover insights, trends, and potential factors influencing booking behaviors.\"\n",
        "\n",
        "\n",
        "The above dataset has 119390 rows and 32 columns. There are some mising values for column [\"Company\",\"agent\",\"country\"] and 31994 duplicate values in the dataset.\n",
        "So first Goal is to clean dataset to optimize given dataset efficiently and analyse easily.\n",
        "\n",
        "The following points Behind data analysis to achive Goal :\n",
        "\n",
        "\n",
        "**Reservation Patterns:**\n",
        "\n",
        "Analyzing customer demographics involves understanding patterns in reservation behavior, including booking frequency, preferred booking channels, and typical lead times.\n",
        "\n",
        "**Cancellation Trends:**\n",
        "\n",
        "Examining demographics can reveal insights into cancellation tendencies, helping to understand which customer segments are more likely to cancel reservations and why. This information is crucial for optimizing cancellation policies and improving customer satisfaction."
      ],
      "metadata": {
        "id": "gfoNAAC-nUe_"
      }
    },
    {
      "cell_type": "markdown",
      "source": [
        "## ***2. Understanding Your Variables***"
      ],
      "metadata": {
        "id": "nA9Y7ga8ng1Z"
      }
    },
    {
      "cell_type": "code",
      "source": [
        "# Dataset Columns\n",
        "\n",
        "df.columns"
      ],
      "metadata": {
        "id": "j7xfkqrt5Ag5"
      },
      "execution_count": null,
      "outputs": []
    },
    {
      "cell_type": "code",
      "source": [
        "# Dataset Describe\n",
        "\n",
        "df.describe(include='all')"
      ],
      "metadata": {
        "id": "DnOaZdaE5Q5t"
      },
      "execution_count": null,
      "outputs": []
    },
    {
      "cell_type": "markdown",
      "source": [
        "### Variables Description"
      ],
      "metadata": {
        "id": "PBTbrJXOngz2"
      }
    },
    {
      "cell_type": "markdown",
      "source": [
        "\n",
        "1.   Hotel:Two types of Hotels :\n",
        "* City Hotel\n",
        "* Resort Hotel\n",
        "\n",
        "2. is_canceled:if the booking was canceled (1) or not (0)\n",
        "3. ead_time : How many days customer has booked the hotel in advance\n",
        "4. arrival_date_year: year of arrival date\n",
        "5. arrival_date_month : month of arrival date\n",
        "6. arrival_date_week_number:week number for arrival date\n",
        "7. arrival_date_day_of month: Day of arrival date\n",
        "8. stays_in_weekend_nights :Number of weekend nights (saturday or sunday) the guest satyed or booked to stay at the hotel\n",
        "9. stays_in_week_nights :Number of week nights (Monday to Friday) the guest satyed or booked to stay at the hotel\n",
        "10. adults :Number of adults\n",
        "11. children : Number of children\n",
        "12. babies : Number of babies\n",
        "13. meal :Kind of meal customer has Opted for in the hotel\n",
        "* BB :- Bed & Breakfast\n",
        "* FB :- Full Board (Beakfast, Lunch and Dinner)\n",
        "* HB :- Half Board (Breakfast and Dinner normally)\n",
        "* SC/Undefined :- no meal opted\n",
        "\n",
        "14. Country: Code of the country customer belongs to\n",
        "15. market_segment :which segment the customer belongs to\n",
        "16. distribution_channel :How the customer has done booking direct/TA/TO\n",
        "17. is_repeated_guest :Guest coming first time (0) or not (1)\n",
        "18. previous_cancellations :Number of booking canceled by the customer prior to current booking\n",
        "19. previous_bookings_not_canceled :count of previous booking sucessfully made by the customer\n",
        "20. reserved_room_type :Type of room reserved by the customer\n",
        "21. assigned_room_type : Type of room assigned to the customer\n",
        "22. booking_changes :count of changes made to booking\n",
        "23. deposit_type : Deposit type opted by the customer\n",
        "24. agent :ID of travel agent who has made the booking\n",
        "25. company :ID of company that made booking\n",
        "26. customer_type :Type of customer\n",
        "\n",
        "* Transient :when the booking is not part of a group or contract, and is not associated to other transient booking\n",
        "* Contract:when the booking has any type of contract associated with it\n",
        "* Transient_party:when the booking is transient but is associated with at least another transient booking\n",
        "* Group: when the booking is associated with a group\n",
        "\n",
        "27. days_in_waiting_list:Number of days customer had to wait to get booking confirm\n",
        "28. adr :A hotel’s ADR, (Average Daily Rate) is the measure of the average rate paid per room that’s occupied at the property\n",
        "29. required_car_parking_spaces :if car parking is required\n",
        "30. total_of_special_requests : Number of additional special requests made by the customer\n",
        "31. reservation_status :Reservation status whether the customer has checked-in or cancelled or not shown.\n",
        "32. reservation_status_date :Date at which last reservation status was made\n",
        "\n",
        "\n",
        "\n"
      ],
      "metadata": {
        "id": "ARHs5Pawo30b"
      }
    },
    {
      "cell_type": "markdown",
      "source": [
        "# **Dataset Cleaning 🧹**"
      ],
      "metadata": {
        "id": "wMTQSzc503o_"
      }
    },
    {
      "cell_type": "code",
      "source": [
        "\n",
        "#droping all duplicate values\n",
        "df.drop_duplicates(inplace=True)\n"
      ],
      "metadata": {
        "id": "hOtXrjq807Yd"
      },
      "execution_count": null,
      "outputs": []
    },
    {
      "cell_type": "code",
      "source": [
        "\n",
        "#check shape after droping duplicate rows\n",
        "df.shape"
      ],
      "metadata": {
        "id": "1dPkAtmf03D5"
      },
      "execution_count": null,
      "outputs": []
    },
    {
      "cell_type": "markdown",
      "source": [
        "After droping all duplicate rows, now we have 87396 Rows and 32 Columns remaining.Now we will try to find out all missing/null values"
      ],
      "metadata": {
        "id": "JRCIfTI01cOO"
      }
    },
    {
      "cell_type": "markdown",
      "source": [
        "Missing Values/Null Values"
      ],
      "metadata": {
        "id": "V6iFZ5ci1hil"
      }
    },
    {
      "cell_type": "code",
      "source": [
        "#check whether contains null value or not\n",
        "df.isnull().values.any()"
      ],
      "metadata": {
        "id": "chPBDOuH1e_2"
      },
      "execution_count": null,
      "outputs": []
    },
    {
      "cell_type": "code",
      "source": [
        "# Check how many null values contain columns and order it by decending order\n",
        "print((df.isnull().sum()).sort_values(ascending=False))\n"
      ],
      "metadata": {
        "id": "-YaXCqEm14Dh"
      },
      "execution_count": null,
      "outputs": []
    },
    {
      "cell_type": "markdown",
      "source": [
        "Here we found out that company,agent,country,children contains null value.Company and agent columns contains maximum null value.so we wil drop these two columns in future steps and we will replace null values in country and children column"
      ],
      "metadata": {
        "id": "JvJI0BeR5gcD"
      }
    },
    {
      "cell_type": "code",
      "source": [
        "\n",
        "# Visualizing the missing values\n",
        "\n",
        "# Checking Null Value by plotting Heatmap\n",
        "\n",
        "plt.figure(figsize=(8,6))\n",
        "sns.heatmap(df.isnull(), cmap='YlOrRd', cbar=False)  # Use 'YlOrRd' colormap for orange color\n",
        "plt.title('Null Values Heatmap')\n",
        "plt.show()\n",
        "\n",
        ""
      ],
      "metadata": {
        "id": "2fteJJJM55Qi"
      },
      "execution_count": null,
      "outputs": []
    },
    {
      "cell_type": "markdown",
      "source": [
        "\"We have a missing values visualization. It can be clearly seen that there is a significant amount of missing values present in the 'agent' and 'company' columns.\""
      ],
      "metadata": {
        "id": "dLUXMXaa_Jbr"
      }
    },
    {
      "cell_type": "code",
      "source": [
        "# Percentage of null values\n",
        "pd.DataFrame(round(df.isna().sum()*100/len(df),4))\n"
      ],
      "metadata": {
        "id": "2-uQ3gJGC8c8"
      },
      "execution_count": null,
      "outputs": []
    },
    {
      "cell_type": "markdown",
      "source": [
        "Children, country, agent, and company variables have null values of 0.0046%, 0.5172%, 13.9514%, and 93.9826%, respectively. Variable companies having more than 50% null values"
      ],
      "metadata": {
        "id": "qTOhejpnC7h4"
      }
    },
    {
      "cell_type": "code",
      "source": [
        "# Dropping column having more than 50% null values\n",
        "df.drop(columns='company', inplace=True)"
      ],
      "metadata": {
        "id": "8g6OogA5DVne"
      },
      "execution_count": null,
      "outputs": []
    },
    {
      "cell_type": "code",
      "source": [
        "# Replacing null values with the most frequent value in a variable\n",
        "\n",
        "df['children']=df['children'].fillna(df['children'].mode()[0])\n",
        "df['country']=df['country'].fillna(df['country'].mode()[0])\n",
        "df['agent']=df['agent'].fillna(df['agent'].mode()[0])"
      ],
      "metadata": {
        "id": "RGW02AiPDsZh"
      },
      "execution_count": null,
      "outputs": []
    },
    {
      "cell_type": "markdown",
      "source": [
        "From above, children, country, and agent are discrete numerical variables, so replaced null values with modes, and the variable company had null values greater than 50%, so removed it."
      ],
      "metadata": {
        "id": "F-6ZYf4ID0ww"
      }
    },
    {
      "cell_type": "code",
      "source": [
        "# Check for null values are removed\n",
        "df.isnull().sum()"
      ],
      "metadata": {
        "id": "lL-fkWp7EypR"
      },
      "execution_count": null,
      "outputs": []
    },
    {
      "cell_type": "markdown",
      "source": [
        "All the null values have been successfully removed."
      ],
      "metadata": {
        "id": "5zTG6GFtE3-t"
      }
    },
    {
      "cell_type": "code",
      "source": [
        "df.shape"
      ],
      "metadata": {
        "id": "s515Kf4IE3WP"
      },
      "execution_count": null,
      "outputs": []
    },
    {
      "cell_type": "markdown",
      "source": [
        "## 3. ***Data Wrangling and Feature Engineering***"
      ],
      "metadata": {
        "id": "dauF4eBmngu3"
      }
    },
    {
      "cell_type": "markdown",
      "source": [
        "### Check Unique Values for each variable."
      ],
      "metadata": {
        "id": "u3PMJOP6ngxN"
      }
    },
    {
      "cell_type": "code",
      "source": [
        "# Check Unique Values for each variable.\n",
        "display(df.apply(lambda column:column.unique()).to_string)"
      ],
      "metadata": {
        "id": "zms12Yq5n-jE"
      },
      "execution_count": null,
      "outputs": []
    },
    {
      "cell_type": "code",
      "source": [
        "# Checking Unique Values for hotel column.\n",
        "df1['hotel'].unique()"
      ],
      "metadata": {
        "id": "5_XiBvBdAGx3"
      },
      "execution_count": null,
      "outputs": []
    },
    {
      "cell_type": "markdown",
      "source": [
        "Two types of hotel in dataset"
      ],
      "metadata": {
        "id": "N6R0u69mAQEm"
      }
    },
    {
      "cell_type": "code",
      "source": [
        "\n",
        "#unique value of is_canceled column\n",
        "list(df1['is_canceled'].unique())"
      ],
      "metadata": {
        "id": "ZNE9UO2pALQq"
      },
      "execution_count": null,
      "outputs": []
    },
    {
      "cell_type": "markdown",
      "source": [
        "1 means that booking was cancelled and 0 means not cancelled"
      ],
      "metadata": {
        "id": "QCy9NOg8AOy3"
      }
    },
    {
      "cell_type": "code",
      "source": [
        "\n",
        "#unique values of arrival_date_year column\n",
        "df1['arrival_date_year'].unique()\n"
      ],
      "metadata": {
        "id": "5RDl2Ad0AYxJ"
      },
      "execution_count": null,
      "outputs": []
    },
    {
      "cell_type": "markdown",
      "source": [
        "# Handling Outliers"
      ],
      "metadata": {
        "id": "IaVeto6ZFmIl"
      }
    },
    {
      "cell_type": "markdown",
      "source": [
        "*Categorical veriables*"
      ],
      "metadata": {
        "id": "Cd7YHP1OGnPg"
      }
    },
    {
      "cell_type": "code",
      "source": [
        "# Obtaining categorical veriables\n",
        "categorical_veriables=[i for i in df.columns if df[i].dtypes=='O']\n",
        "print(f'Dataset having {len(categorical_veriables)} categorical variables')\n",
        "print(categorical_veriables)"
      ],
      "metadata": {
        "id": "wfrz-aUxFoOp"
      },
      "execution_count": null,
      "outputs": []
    },
    {
      "cell_type": "markdown",
      "source": [
        "*Numerical variables*"
      ],
      "metadata": {
        "id": "921r9uGyGvSc"
      }
    },
    {
      "cell_type": "code",
      "source": [
        "# Obtaining Numerical varibles\n",
        "numerical_variables=[i for i in df.columns if df[i].dtypes!='O']\n",
        "print(f'There are {len(numerical_variables)} numerical variables.')\n",
        "print(numerical_variables)\n"
      ],
      "metadata": {
        "id": "hGnK9pmRGz2I"
      },
      "execution_count": null,
      "outputs": []
    },
    {
      "cell_type": "markdown",
      "source": [
        "finding out outlier in each column"
      ],
      "metadata": {
        "id": "FPzhjgVWJqcV"
      }
    },
    {
      "cell_type": "code",
      "source": [
        "\n",
        "plt.rc('font', size=15)\n",
        "plt.figure(figsize=(30,15))\n",
        "sns.boxplot(data=df[['is_canceled','lead_time','arrival_date_week_number','adults','babies','previous_cancellations','booking_changes','days_in_waiting_list','adr','total_of_special_requests']])\n",
        "plt.show()\n",
        ""
      ],
      "metadata": {
        "id": "8F7JaSzUI2Od"
      },
      "execution_count": null,
      "outputs": []
    },
    {
      "cell_type": "markdown",
      "source": [
        "After checking for each column only in these columns outliers are present (\n",
        "lead_time, adr, days_in_waiting_list)"
      ],
      "metadata": {
        "id": "cNRn3hC0JafG"
      }
    },
    {
      "cell_type": "code",
      "source": [
        "#outliers are present in lead_time, adr, days_in_waiting_list column\n",
        "plt.rc('font', size=20)\n",
        "plt.figure(figsize=(30,15))\n",
        "sns.boxplot(data=df1[['lead_time','adr','days_in_waiting_list']])\n",
        "plt.show()"
      ],
      "metadata": {
        "id": "HSggoyLkJJmE"
      },
      "execution_count": null,
      "outputs": []
    },
    {
      "cell_type": "code",
      "source": [
        "\n",
        "#removing outlier\n",
        "def removing_outlier(col):\n",
        "  sorted(col)\n",
        "  q1,q3=col.quantile([0.25,0.75])  # Quantile function divides the dataset in 25% and 75%\n",
        "  IQR=q3-q1                          #Interquartile range\n",
        "  lwr_bound=q1-(1.5*IQR)\n",
        "  upr_bound=q3+(1.5*IQR)\n",
        "  return lwr_bound,upr_bound"
      ],
      "metadata": {
        "id": "nwsNEndvLGEZ"
      },
      "execution_count": null,
      "outputs": []
    },
    {
      "cell_type": "code",
      "source": [
        "\n",
        "#removing outlier from lead_time column\n",
        "low,high=removing_outlier(df['lead_time'])\n",
        "df['lead_time']=np.where(df['lead_time']> high,high,df['lead_time'])\n",
        "df['lead_time']=np.where(df['lead_time']< low,low,df['lead_time'])\n"
      ],
      "metadata": {
        "id": "7UeyK4gHLN8u"
      },
      "execution_count": null,
      "outputs": []
    },
    {
      "cell_type": "code",
      "source": [
        "#removing outlier from adr column\n",
        "low,high=removing_outlier(df1['adr'])\n",
        "df['adr']=np.where(df['adr']> high,high,df['adr'])\n",
        "df['adr']=np.where(df['adr']< low,low,df['adr'])\n"
      ],
      "metadata": {
        "id": "CbiHC3XgLhmG"
      },
      "execution_count": null,
      "outputs": []
    },
    {
      "cell_type": "code",
      "source": [
        "#removing outlier from days_in_waiting list\n",
        "low,high=removing_outlier(df1['days_in_waiting_list'])\n",
        "df['days_in_waiting_list']=np.where(df['days_in_waiting_list']> high,high,df['days_in_waiting_list'])\n",
        "df['days_in_waiting_list']=np.where(df['days_in_waiting_list']< low,low,df['days_in_waiting_list'])"
      ],
      "metadata": {
        "id": "ZfK2NBRZLmAO"
      },
      "execution_count": null,
      "outputs": []
    },
    {
      "cell_type": "code",
      "source": [
        "\n",
        "#after removing outlier\n",
        "sns.set_style('whitegrid')\n",
        "plt.rc('font',size=20)\n",
        "plt.figure(figsize=(10,5))\n",
        "sns.boxplot(data=df[['lead_time','adr','days_in_waiting_list']])\n",
        "plt.show()"
      ],
      "metadata": {
        "id": "K_iasrxoLsCy"
      },
      "execution_count": null,
      "outputs": []
    },
    {
      "cell_type": "markdown",
      "source": [
        "### Data Wrangling Code"
      ],
      "metadata": {
        "id": "bKJF3rekwFvQ"
      }
    },
    {
      "cell_type": "code",
      "source": [
        "# Write your code to make your dataset analysis ready."
      ],
      "metadata": {
        "id": "wk-9a2fpoLcV"
      },
      "execution_count": null,
      "outputs": []
    },
    {
      "cell_type": "markdown",
      "source": [
        "### What all manipulations have you done and insights you found?"
      ],
      "metadata": {
        "id": "MSa1f5Uengrz"
      }
    },
    {
      "cell_type": "markdown",
      "source": [
        "Answer Here."
      ],
      "metadata": {
        "id": "LbyXE7I1olp8"
      }
    },
    {
      "cell_type": "markdown",
      "source": [
        "## ***4. Data Vizualization, Storytelling & Experimenting with charts : Understand the relationships between variables***"
      ],
      "metadata": {
        "id": "GF8Ens_Soomf"
      }
    },
    {
      "cell_type": "markdown",
      "source": [
        "#### Chart - 1"
      ],
      "metadata": {
        "id": "0wOQAZs5pc--"
      }
    },
    {
      "cell_type": "code",
      "source": [
        "# Chart - 1 visualization code"
      ],
      "metadata": {
        "id": "7v_ESjsspbW7"
      },
      "execution_count": null,
      "outputs": []
    },
    {
      "cell_type": "markdown",
      "source": [
        "##### 1. Why did you pick the specific chart?"
      ],
      "metadata": {
        "id": "K5QZ13OEpz2H"
      }
    },
    {
      "cell_type": "markdown",
      "source": [
        "Answer Here."
      ],
      "metadata": {
        "id": "XESiWehPqBRc"
      }
    },
    {
      "cell_type": "markdown",
      "source": [
        "##### 2. What is/are the insight(s) found from the chart?"
      ],
      "metadata": {
        "id": "lQ7QKXXCp7Bj"
      }
    },
    {
      "cell_type": "markdown",
      "source": [
        "Answer Here"
      ],
      "metadata": {
        "id": "C_j1G7yiqdRP"
      }
    },
    {
      "cell_type": "markdown",
      "source": [
        "##### 3. Will the gained insights help creating a positive business impact?\n",
        "Are there any insights that lead to negative growth? Justify with specific reason."
      ],
      "metadata": {
        "id": "448CDAPjqfQr"
      }
    },
    {
      "cell_type": "markdown",
      "source": [
        "Answer Here"
      ],
      "metadata": {
        "id": "3cspy4FjqxJW"
      }
    },
    {
      "cell_type": "markdown",
      "source": [
        "#### Chart - 2"
      ],
      "metadata": {
        "id": "KSlN3yHqYklG"
      }
    },
    {
      "cell_type": "code",
      "source": [
        "# Chart - 2 visualization code"
      ],
      "metadata": {
        "id": "R4YgtaqtYklH"
      },
      "execution_count": null,
      "outputs": []
    },
    {
      "cell_type": "markdown",
      "source": [
        "##### 1. Why did you pick the specific chart?"
      ],
      "metadata": {
        "id": "t6dVpIINYklI"
      }
    },
    {
      "cell_type": "markdown",
      "source": [
        "Answer Here."
      ],
      "metadata": {
        "id": "5aaW0BYyYklI"
      }
    },
    {
      "cell_type": "markdown",
      "source": [
        "##### 2. What is/are the insight(s) found from the chart?"
      ],
      "metadata": {
        "id": "ijmpgYnKYklI"
      }
    },
    {
      "cell_type": "markdown",
      "source": [
        "Answer Here"
      ],
      "metadata": {
        "id": "PSx9atu2YklI"
      }
    },
    {
      "cell_type": "markdown",
      "source": [
        "##### 3. Will the gained insights help creating a positive business impact?\n",
        "Are there any insights that lead to negative growth? Justify with specific reason."
      ],
      "metadata": {
        "id": "-JiQyfWJYklI"
      }
    },
    {
      "cell_type": "markdown",
      "source": [
        "Answer Here"
      ],
      "metadata": {
        "id": "BcBbebzrYklV"
      }
    },
    {
      "cell_type": "markdown",
      "source": [
        "#### Chart - 3"
      ],
      "metadata": {
        "id": "EM7whBJCYoAo"
      }
    },
    {
      "cell_type": "code",
      "source": [
        "# Chart - 3 visualization code"
      ],
      "metadata": {
        "id": "t6GMdE67YoAp"
      },
      "execution_count": null,
      "outputs": []
    },
    {
      "cell_type": "markdown",
      "source": [
        "##### 1. Why did you pick the specific chart?"
      ],
      "metadata": {
        "id": "fge-S5ZAYoAp"
      }
    },
    {
      "cell_type": "markdown",
      "source": [
        "Answer Here."
      ],
      "metadata": {
        "id": "5dBItgRVYoAp"
      }
    },
    {
      "cell_type": "markdown",
      "source": [
        "##### 2. What is/are the insight(s) found from the chart?"
      ],
      "metadata": {
        "id": "85gYPyotYoAp"
      }
    },
    {
      "cell_type": "markdown",
      "source": [
        "Answer Here"
      ],
      "metadata": {
        "id": "4jstXR6OYoAp"
      }
    },
    {
      "cell_type": "markdown",
      "source": [
        "##### 3. Will the gained insights help creating a positive business impact?\n",
        "Are there any insights that lead to negative growth? Justify with specific reason."
      ],
      "metadata": {
        "id": "RoGjAbkUYoAp"
      }
    },
    {
      "cell_type": "markdown",
      "source": [
        "Answer Here"
      ],
      "metadata": {
        "id": "zfJ8IqMcYoAp"
      }
    },
    {
      "cell_type": "markdown",
      "source": [
        "#### Chart - 4"
      ],
      "metadata": {
        "id": "4Of9eVA-YrdM"
      }
    },
    {
      "cell_type": "code",
      "source": [
        "# Chart - 4 visualization code"
      ],
      "metadata": {
        "id": "irlUoxc8YrdO"
      },
      "execution_count": null,
      "outputs": []
    },
    {
      "cell_type": "markdown",
      "source": [
        "##### 1. Why did you pick the specific chart?"
      ],
      "metadata": {
        "id": "iky9q4vBYrdO"
      }
    },
    {
      "cell_type": "markdown",
      "source": [
        "Answer Here."
      ],
      "metadata": {
        "id": "aJRCwT6DYrdO"
      }
    },
    {
      "cell_type": "markdown",
      "source": [
        "##### 2. What is/are the insight(s) found from the chart?"
      ],
      "metadata": {
        "id": "F6T5p64dYrdO"
      }
    },
    {
      "cell_type": "markdown",
      "source": [
        "Answer Here"
      ],
      "metadata": {
        "id": "Xx8WAJvtYrdO"
      }
    },
    {
      "cell_type": "markdown",
      "source": [
        "##### 3. Will the gained insights help creating a positive business impact?\n",
        "Are there any insights that lead to negative growth? Justify with specific reason."
      ],
      "metadata": {
        "id": "y-Ehk30pYrdP"
      }
    },
    {
      "cell_type": "markdown",
      "source": [
        "Answer Here"
      ],
      "metadata": {
        "id": "jLNxxz7MYrdP"
      }
    },
    {
      "cell_type": "markdown",
      "source": [
        "#### Chart - 5"
      ],
      "metadata": {
        "id": "bamQiAODYuh1"
      }
    },
    {
      "cell_type": "code",
      "source": [
        "# Chart - 5 visualization code"
      ],
      "metadata": {
        "id": "TIJwrbroYuh3"
      },
      "execution_count": null,
      "outputs": []
    },
    {
      "cell_type": "markdown",
      "source": [
        "##### 1. Why did you pick the specific chart?"
      ],
      "metadata": {
        "id": "QHF8YVU7Yuh3"
      }
    },
    {
      "cell_type": "markdown",
      "source": [
        "Answer Here."
      ],
      "metadata": {
        "id": "dcxuIMRPYuh3"
      }
    },
    {
      "cell_type": "markdown",
      "source": [
        "##### 2. What is/are the insight(s) found from the chart?"
      ],
      "metadata": {
        "id": "GwzvFGzlYuh3"
      }
    },
    {
      "cell_type": "markdown",
      "source": [
        "Answer Here"
      ],
      "metadata": {
        "id": "uyqkiB8YYuh3"
      }
    },
    {
      "cell_type": "markdown",
      "source": [
        "##### 3. Will the gained insights help creating a positive business impact?\n",
        "Are there any insights that lead to negative growth? Justify with specific reason."
      ],
      "metadata": {
        "id": "qYpmQ266Yuh3"
      }
    },
    {
      "cell_type": "markdown",
      "source": [
        "Answer Here"
      ],
      "metadata": {
        "id": "_WtzZ_hCYuh4"
      }
    },
    {
      "cell_type": "markdown",
      "source": [
        "#### Chart - 6"
      ],
      "metadata": {
        "id": "OH-pJp9IphqM"
      }
    },
    {
      "cell_type": "code",
      "source": [
        "# Chart - 6 visualization code"
      ],
      "metadata": {
        "id": "kuRf4wtuphqN"
      },
      "execution_count": null,
      "outputs": []
    },
    {
      "cell_type": "markdown",
      "source": [
        "##### 1. Why did you pick the specific chart?"
      ],
      "metadata": {
        "id": "bbFf2-_FphqN"
      }
    },
    {
      "cell_type": "markdown",
      "source": [
        "Answer Here."
      ],
      "metadata": {
        "id": "loh7H2nzphqN"
      }
    },
    {
      "cell_type": "markdown",
      "source": [
        "##### 2. What is/are the insight(s) found from the chart?"
      ],
      "metadata": {
        "id": "_ouA3fa0phqN"
      }
    },
    {
      "cell_type": "markdown",
      "source": [
        "Answer Here"
      ],
      "metadata": {
        "id": "VECbqPI7phqN"
      }
    },
    {
      "cell_type": "markdown",
      "source": [
        "##### 3. Will the gained insights help creating a positive business impact?\n",
        "Are there any insights that lead to negative growth? Justify with specific reason."
      ],
      "metadata": {
        "id": "Seke61FWphqN"
      }
    },
    {
      "cell_type": "markdown",
      "source": [
        "Answer Here"
      ],
      "metadata": {
        "id": "DW4_bGpfphqN"
      }
    },
    {
      "cell_type": "markdown",
      "source": [
        "#### Chart - 7"
      ],
      "metadata": {
        "id": "PIIx-8_IphqN"
      }
    },
    {
      "cell_type": "code",
      "source": [
        "# Chart - 7 visualization code"
      ],
      "metadata": {
        "id": "lqAIGUfyphqO"
      },
      "execution_count": null,
      "outputs": []
    },
    {
      "cell_type": "markdown",
      "source": [
        "##### 1. Why did you pick the specific chart?"
      ],
      "metadata": {
        "id": "t27r6nlMphqO"
      }
    },
    {
      "cell_type": "markdown",
      "source": [
        "Answer Here."
      ],
      "metadata": {
        "id": "iv6ro40sphqO"
      }
    },
    {
      "cell_type": "markdown",
      "source": [
        "##### 2. What is/are the insight(s) found from the chart?"
      ],
      "metadata": {
        "id": "r2jJGEOYphqO"
      }
    },
    {
      "cell_type": "markdown",
      "source": [
        "Answer Here"
      ],
      "metadata": {
        "id": "Po6ZPi4hphqO"
      }
    },
    {
      "cell_type": "markdown",
      "source": [
        "##### 3. Will the gained insights help creating a positive business impact?\n",
        "Are there any insights that lead to negative growth? Justify with specific reason."
      ],
      "metadata": {
        "id": "b0JNsNcRphqO"
      }
    },
    {
      "cell_type": "markdown",
      "source": [
        "Answer Here"
      ],
      "metadata": {
        "id": "xvSq8iUTphqO"
      }
    },
    {
      "cell_type": "markdown",
      "source": [
        "#### Chart - 8"
      ],
      "metadata": {
        "id": "BZR9WyysphqO"
      }
    },
    {
      "cell_type": "code",
      "source": [
        "# Chart - 8 visualization code"
      ],
      "metadata": {
        "id": "TdPTWpAVphqO"
      },
      "execution_count": null,
      "outputs": []
    },
    {
      "cell_type": "markdown",
      "source": [
        "##### 1. Why did you pick the specific chart?"
      ],
      "metadata": {
        "id": "jj7wYXLtphqO"
      }
    },
    {
      "cell_type": "markdown",
      "source": [
        "Answer Here."
      ],
      "metadata": {
        "id": "Ob8u6rCTphqO"
      }
    },
    {
      "cell_type": "markdown",
      "source": [
        "##### 2. What is/are the insight(s) found from the chart?"
      ],
      "metadata": {
        "id": "eZrbJ2SmphqO"
      }
    },
    {
      "cell_type": "markdown",
      "source": [
        "Answer Here"
      ],
      "metadata": {
        "id": "mZtgC_hjphqO"
      }
    },
    {
      "cell_type": "markdown",
      "source": [
        "##### 3. Will the gained insights help creating a positive business impact?\n",
        "Are there any insights that lead to negative growth? Justify with specific reason."
      ],
      "metadata": {
        "id": "rFu4xreNphqO"
      }
    },
    {
      "cell_type": "markdown",
      "source": [
        "Answer Here"
      ],
      "metadata": {
        "id": "ey_0qi68phqO"
      }
    },
    {
      "cell_type": "markdown",
      "source": [
        "#### Chart - 9"
      ],
      "metadata": {
        "id": "YJ55k-q6phqO"
      }
    },
    {
      "cell_type": "code",
      "source": [
        "# Chart - 9 visualization code"
      ],
      "metadata": {
        "id": "B2aS4O1ophqO"
      },
      "execution_count": null,
      "outputs": []
    },
    {
      "cell_type": "markdown",
      "source": [
        "##### 1. Why did you pick the specific chart?"
      ],
      "metadata": {
        "id": "gCFgpxoyphqP"
      }
    },
    {
      "cell_type": "markdown",
      "source": [
        "Answer Here."
      ],
      "metadata": {
        "id": "TVxDimi2phqP"
      }
    },
    {
      "cell_type": "markdown",
      "source": [
        "##### 2. What is/are the insight(s) found from the chart?"
      ],
      "metadata": {
        "id": "OVtJsKN_phqQ"
      }
    },
    {
      "cell_type": "markdown",
      "source": [
        "Answer Here"
      ],
      "metadata": {
        "id": "ngGi97qjphqQ"
      }
    },
    {
      "cell_type": "markdown",
      "source": [
        "##### 3. Will the gained insights help creating a positive business impact?\n",
        "Are there any insights that lead to negative growth? Justify with specific reason."
      ],
      "metadata": {
        "id": "lssrdh5qphqQ"
      }
    },
    {
      "cell_type": "markdown",
      "source": [
        "Answer Here"
      ],
      "metadata": {
        "id": "tBpY5ekJphqQ"
      }
    },
    {
      "cell_type": "markdown",
      "source": [
        "#### Chart - 10"
      ],
      "metadata": {
        "id": "U2RJ9gkRphqQ"
      }
    },
    {
      "cell_type": "code",
      "source": [
        "# Chart - 10 visualization code"
      ],
      "metadata": {
        "id": "GM7a4YP4phqQ"
      },
      "execution_count": null,
      "outputs": []
    },
    {
      "cell_type": "markdown",
      "source": [
        "##### 1. Why did you pick the specific chart?"
      ],
      "metadata": {
        "id": "1M8mcRywphqQ"
      }
    },
    {
      "cell_type": "markdown",
      "source": [
        "Answer Here."
      ],
      "metadata": {
        "id": "8agQvks0phqQ"
      }
    },
    {
      "cell_type": "markdown",
      "source": [
        "##### 2. What is/are the insight(s) found from the chart?"
      ],
      "metadata": {
        "id": "tgIPom80phqQ"
      }
    },
    {
      "cell_type": "markdown",
      "source": [
        "Answer Here"
      ],
      "metadata": {
        "id": "Qp13pnNzphqQ"
      }
    },
    {
      "cell_type": "markdown",
      "source": [
        "##### 3. Will the gained insights help creating a positive business impact?\n",
        "Are there any insights that lead to negative growth? Justify with specific reason."
      ],
      "metadata": {
        "id": "JMzcOPDDphqR"
      }
    },
    {
      "cell_type": "markdown",
      "source": [
        "Answer Here"
      ],
      "metadata": {
        "id": "R4Ka1PC2phqR"
      }
    },
    {
      "cell_type": "markdown",
      "source": [
        "#### Chart - 11"
      ],
      "metadata": {
        "id": "x-EpHcCOp1ci"
      }
    },
    {
      "cell_type": "code",
      "source": [
        "# Chart - 11 visualization code"
      ],
      "metadata": {
        "id": "mAQTIvtqp1cj"
      },
      "execution_count": null,
      "outputs": []
    },
    {
      "cell_type": "markdown",
      "source": [
        "##### 1. Why did you pick the specific chart?"
      ],
      "metadata": {
        "id": "X_VqEhTip1ck"
      }
    },
    {
      "cell_type": "markdown",
      "source": [
        "Answer Here."
      ],
      "metadata": {
        "id": "-vsMzt_np1ck"
      }
    },
    {
      "cell_type": "markdown",
      "source": [
        "##### 2. What is/are the insight(s) found from the chart?"
      ],
      "metadata": {
        "id": "8zGJKyg5p1ck"
      }
    },
    {
      "cell_type": "markdown",
      "source": [
        "Answer Here"
      ],
      "metadata": {
        "id": "ZYdMsrqVp1ck"
      }
    },
    {
      "cell_type": "markdown",
      "source": [
        "##### 3. Will the gained insights help creating a positive business impact?\n",
        "Are there any insights that lead to negative growth? Justify with specific reason."
      ],
      "metadata": {
        "id": "PVzmfK_Ep1ck"
      }
    },
    {
      "cell_type": "markdown",
      "source": [
        "Answer Here"
      ],
      "metadata": {
        "id": "druuKYZpp1ck"
      }
    },
    {
      "cell_type": "markdown",
      "source": [
        "#### Chart - 12"
      ],
      "metadata": {
        "id": "n3dbpmDWp1ck"
      }
    },
    {
      "cell_type": "code",
      "source": [
        "# Chart - 12 visualization code"
      ],
      "metadata": {
        "id": "bwevp1tKp1ck"
      },
      "execution_count": null,
      "outputs": []
    },
    {
      "cell_type": "markdown",
      "source": [
        "##### 1. Why did you pick the specific chart?"
      ],
      "metadata": {
        "id": "ylSl6qgtp1ck"
      }
    },
    {
      "cell_type": "markdown",
      "source": [
        "Answer Here."
      ],
      "metadata": {
        "id": "m2xqNkiQp1ck"
      }
    },
    {
      "cell_type": "markdown",
      "source": [
        "##### 2. What is/are the insight(s) found from the chart?"
      ],
      "metadata": {
        "id": "ZWILFDl5p1ck"
      }
    },
    {
      "cell_type": "markdown",
      "source": [
        "Answer Here"
      ],
      "metadata": {
        "id": "x-lUsV2mp1ck"
      }
    },
    {
      "cell_type": "markdown",
      "source": [
        "##### 3. Will the gained insights help creating a positive business impact?\n",
        "Are there any insights that lead to negative growth? Justify with specific reason."
      ],
      "metadata": {
        "id": "M7G43BXep1ck"
      }
    },
    {
      "cell_type": "markdown",
      "source": [
        "Answer Here"
      ],
      "metadata": {
        "id": "5wwDJXsLp1cl"
      }
    },
    {
      "cell_type": "markdown",
      "source": [
        "#### Chart - 13"
      ],
      "metadata": {
        "id": "Ag9LCva-p1cl"
      }
    },
    {
      "cell_type": "code",
      "source": [
        "# Chart - 13 visualization code"
      ],
      "metadata": {
        "id": "EUfxeq9-p1cl"
      },
      "execution_count": null,
      "outputs": []
    },
    {
      "cell_type": "markdown",
      "source": [
        "##### 1. Why did you pick the specific chart?"
      ],
      "metadata": {
        "id": "E6MkPsBcp1cl"
      }
    },
    {
      "cell_type": "markdown",
      "source": [
        "Answer Here."
      ],
      "metadata": {
        "id": "V22bRsFWp1cl"
      }
    },
    {
      "cell_type": "markdown",
      "source": [
        "##### 2. What is/are the insight(s) found from the chart?"
      ],
      "metadata": {
        "id": "2cELzS2fp1cl"
      }
    },
    {
      "cell_type": "markdown",
      "source": [
        "Answer Here"
      ],
      "metadata": {
        "id": "ozQPc2_Ip1cl"
      }
    },
    {
      "cell_type": "markdown",
      "source": [
        "##### 3. Will the gained insights help creating a positive business impact?\n",
        "Are there any insights that lead to negative growth? Justify with specific reason."
      ],
      "metadata": {
        "id": "3MPXvC8up1cl"
      }
    },
    {
      "cell_type": "markdown",
      "source": [
        "Answer Here"
      ],
      "metadata": {
        "id": "GL8l1tdLp1cl"
      }
    },
    {
      "cell_type": "markdown",
      "source": [
        "#### Chart - 14 - Correlation Heatmap"
      ],
      "metadata": {
        "id": "NC_X3p0fY2L0"
      }
    },
    {
      "cell_type": "code",
      "source": [
        "# Correlation Heatmap visualization code"
      ],
      "metadata": {
        "id": "xyC9zolEZNRQ"
      },
      "execution_count": null,
      "outputs": []
    },
    {
      "cell_type": "markdown",
      "source": [
        "##### 1. Why did you pick the specific chart?"
      ],
      "metadata": {
        "id": "UV0SzAkaZNRQ"
      }
    },
    {
      "cell_type": "markdown",
      "source": [
        "Answer Here."
      ],
      "metadata": {
        "id": "DVPuT8LYZNRQ"
      }
    },
    {
      "cell_type": "markdown",
      "source": [
        "##### 2. What is/are the insight(s) found from the chart?"
      ],
      "metadata": {
        "id": "YPEH6qLeZNRQ"
      }
    },
    {
      "cell_type": "markdown",
      "source": [
        "Answer Here"
      ],
      "metadata": {
        "id": "bfSqtnDqZNRR"
      }
    },
    {
      "cell_type": "markdown",
      "source": [
        "#### Chart - 15 - Pair Plot"
      ],
      "metadata": {
        "id": "q29F0dvdveiT"
      }
    },
    {
      "cell_type": "code",
      "source": [
        "# Pair Plot visualization code"
      ],
      "metadata": {
        "id": "o58-TEIhveiU"
      },
      "execution_count": null,
      "outputs": []
    },
    {
      "cell_type": "markdown",
      "source": [
        "##### 1. Why did you pick the specific chart?"
      ],
      "metadata": {
        "id": "EXh0U9oCveiU"
      }
    },
    {
      "cell_type": "markdown",
      "source": [
        "Answer Here."
      ],
      "metadata": {
        "id": "eMmPjTByveiU"
      }
    },
    {
      "cell_type": "markdown",
      "source": [
        "##### 2. What is/are the insight(s) found from the chart?"
      ],
      "metadata": {
        "id": "22aHeOlLveiV"
      }
    },
    {
      "cell_type": "markdown",
      "source": [
        "Answer Here"
      ],
      "metadata": {
        "id": "uPQ8RGwHveiV"
      }
    },
    {
      "cell_type": "markdown",
      "source": [
        "## **5. Solution to Business Objective**"
      ],
      "metadata": {
        "id": "JcMwzZxoAimU"
      }
    },
    {
      "cell_type": "markdown",
      "source": [
        "#### What do you suggest the client to achieve Business Objective ?\n",
        "Explain Briefly."
      ],
      "metadata": {
        "id": "8G2x9gOozGDZ"
      }
    },
    {
      "cell_type": "markdown",
      "source": [
        "Answer Here."
      ],
      "metadata": {
        "id": "pASKb0qOza21"
      }
    },
    {
      "cell_type": "markdown",
      "source": [
        "# **Conclusion**"
      ],
      "metadata": {
        "id": "gCX9965dhzqZ"
      }
    },
    {
      "cell_type": "markdown",
      "source": [
        "Write the conclusion here."
      ],
      "metadata": {
        "id": "Fjb1IsQkh3yE"
      }
    },
    {
      "cell_type": "markdown",
      "source": [
        "### ***Hurrah! You have successfully completed your EDA Capstone Project !!!***"
      ],
      "metadata": {
        "id": "gIfDvo9L0UH2"
      }
    }
  ]
}