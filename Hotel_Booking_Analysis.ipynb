{
  "nbformat": 4,
  "nbformat_minor": 0,
  "metadata": {
    "colab": {
      "private_outputs": true,
      "provenance": [],
      "collapsed_sections": [
        "MSa1f5Uengrz",
        "GF8Ens_Soomf",
        "0wOQAZs5pc--",
        "K5QZ13OEpz2H",
        "lQ7QKXXCp7Bj",
        "448CDAPjqfQr",
        "KSlN3yHqYklG",
        "t6dVpIINYklI",
        "ijmpgYnKYklI",
        "-JiQyfWJYklI",
        "EM7whBJCYoAo",
        "fge-S5ZAYoAp",
        "85gYPyotYoAp",
        "RoGjAbkUYoAp",
        "4Of9eVA-YrdM",
        "iky9q4vBYrdO",
        "F6T5p64dYrdO",
        "y-Ehk30pYrdP",
        "bamQiAODYuh1",
        "QHF8YVU7Yuh3",
        "GwzvFGzlYuh3",
        "qYpmQ266Yuh3",
        "OH-pJp9IphqM",
        "bbFf2-_FphqN",
        "_ouA3fa0phqN",
        "Seke61FWphqN",
        "PIIx-8_IphqN",
        "t27r6nlMphqO",
        "r2jJGEOYphqO",
        "b0JNsNcRphqO",
        "BZR9WyysphqO",
        "jj7wYXLtphqO",
        "eZrbJ2SmphqO",
        "rFu4xreNphqO",
        "YJ55k-q6phqO",
        "gCFgpxoyphqP",
        "OVtJsKN_phqQ",
        "lssrdh5qphqQ",
        "U2RJ9gkRphqQ",
        "1M8mcRywphqQ",
        "tgIPom80phqQ",
        "JMzcOPDDphqR",
        "x-EpHcCOp1ci",
        "X_VqEhTip1ck",
        "8zGJKyg5p1ck",
        "PVzmfK_Ep1ck",
        "n3dbpmDWp1ck",
        "ylSl6qgtp1ck",
        "ZWILFDl5p1ck",
        "M7G43BXep1ck",
        "Ag9LCva-p1cl",
        "E6MkPsBcp1cl",
        "2cELzS2fp1cl",
        "3MPXvC8up1cl",
        "NC_X3p0fY2L0",
        "UV0SzAkaZNRQ",
        "YPEH6qLeZNRQ",
        "q29F0dvdveiT",
        "EXh0U9oCveiU",
        "22aHeOlLveiV",
        "JcMwzZxoAimU",
        "8G2x9gOozGDZ",
        "gCX9965dhzqZ",
        "gIfDvo9L0UH2"
      ],
      "include_colab_link": true
    },
    "kernelspec": {
      "name": "python3",
      "display_name": "Python 3"
    },
    "language_info": {
      "name": "python"
    }
  },
  "cells": [
    {
      "cell_type": "markdown",
      "metadata": {
        "id": "view-in-github",
        "colab_type": "text"
      },
      "source": [
        "<a href=\"https://colab.research.google.com/github/PawanYadav007s/Hotel-Booking-Analysis/blob/main/Hotel_Booking_Analysis.ipynb\" target=\"_parent\"><img src=\"https://colab.research.google.com/assets/colab-badge.svg\" alt=\"Open In Colab\"/></a>"
      ]
    },
    {
      "cell_type": "markdown",
      "source": [
        "# **Project Name**    -\n",
        "\n"
      ],
      "metadata": {
        "id": "vncDsAP0Gaoa"
      }
    },
    {
      "cell_type": "markdown",
      "source": [
        "##### **Project Type**    - Exploratory data analysis (EDA)\n",
        "##### **Contribution**    - Individual\n",
        "##### **Name**    - Pawan Anil Yadav\n"
      ],
      "metadata": {
        "id": "beRrZCGUAJYm"
      }
    },
    {
      "cell_type": "markdown",
      "source": [
        "# **Project Summary -**"
      ],
      "metadata": {
        "id": "FJNUwmbgGyua"
      }
    },
    {
      "cell_type": "markdown",
      "source": [
        "\n",
        "**Hotel Bookings Data Analysis Project Overview:**\n",
        "\n",
        "Hotel Booking Data Analysis Project Overview:\n",
        "\n",
        "This project dives deep into a dataset covering hotel reservations from 2015 to 2017 for both city and resort hotels.This data set contains booking information for a city hotel and a resort hotel and includes information such as when the booking was made, length of stay, the number of adults, children, and/or babies, and the number of available parking spaces, among other things. All personally identifying information has from the data. We will perform exploratory data analysis with python to get insight from the data."
      ],
      "metadata": {
        "id": "F6v_1wHtG2nS"
      }
    },
    {
      "cell_type": "markdown",
      "source": [
        "# **GitHub Link -**"
      ],
      "metadata": {
        "id": "w6K7xa23Elo4"
      }
    },
    {
      "cell_type": "markdown",
      "source": [
        "https://github.com/PawanYadav007s/Hotel-Booking-Analysis"
      ],
      "metadata": {
        "id": "h1o69JH3Eqqn"
      }
    },
    {
      "cell_type": "markdown",
      "source": [
        "#### **Define Your Business Objective?**"
      ],
      "metadata": {
        "id": "PH-0ReGfmX4f"
      }
    },
    {
      "cell_type": "markdown",
      "source": [
        "\n",
        "\n",
        "Objectives for Hotel Booking Data Analysis Project:\n",
        "\n",
        "**Cancellation Pattern Recognition:**\n",
        "\n",
        "  Identify and understand patterns related to booking cancellations through exploratory data analysis.\n",
        "  Determine the impact of lead time, meal preferences, and customer types on booking cancellations.\n",
        "  Establish a framework for recognizing and categorizing cancellation reasons.\n",
        "\n",
        "**Optimal Booking Timing Determination:**\n",
        "\n",
        "  Analyze historical booking data to identify peak times and trends for hotel reservations.\n",
        "  Determine optimal booking periods based on lead times, seasonal variations, and historical trends.\n",
        "  Provide actionable insights for customers to optimize their booking timing.\n",
        "\n",
        "**Peak Season and Customer Behavior Analysis:**\n",
        "\n",
        "  Explore the relationship between peak seasons and customer demographics, room preferences, and booking channels.\n",
        "  Identify key factors influencing customer behavior during peak seasons.\n",
        "  Provide hotels with tailored strategies to align services with peak season demands.\n",
        "\n",
        "**Data Visualization for Decision-Making:**\n",
        "\n",
        "  Utilize sophisticated data visualization techniques to present findings in an easily understandable format.\n",
        "  Create visualizations such as charts and graphs to facilitate informed decision-making."
      ],
      "metadata": {
        "id": "PhDvGCAqmjP1"
      }
    },
    {
      "cell_type": "markdown",
      "source": [
        "# **General Guidelines** : -  "
      ],
      "metadata": {
        "id": "mDgbUHAGgjLW"
      }
    },
    {
      "cell_type": "markdown",
      "source": [
        "1.   Well-structured, formatted, and commented code is required.\n",
        "2.   Exception Handling, Production Grade Code & Deployment Ready Code will be a plus. Those students will be awarded some additional credits.\n",
        "     \n",
        "     The additional credits will have advantages over other students during Star Student selection.\n",
        "       \n",
        "             [ Note: - Deployment Ready Code is defined as, the whole .ipynb notebook should be executable in one go\n",
        "                       without a single error logged. ]\n",
        "\n",
        "3.   Each and every logic should have proper comments.\n",
        "4. You may add as many number of charts you want. Make Sure for each and every chart the following format should be answered.\n",
        "        \n",
        "\n",
        "```\n",
        "# Chart visualization code\n",
        "```\n",
        "            \n",
        "\n",
        "*   Why did you pick the specific chart?\n",
        "*   What is/are the insight(s) found from the chart?\n",
        "* Will the gained insights help creating a positive business impact?\n",
        "Are there any insights that lead to negative growth? Justify with specific reason.\n",
        "\n",
        "5. You have to create at least 20 logical & meaningful charts having important insights.\n",
        "\n",
        "\n",
        "[ Hints : - Do the Vizualization in  a structured way while following \"UBM\" Rule.\n",
        "\n",
        "U - Univariate Analysis,\n",
        "\n",
        "B - Bivariate Analysis (Numerical - Categorical, Numerical - Numerical, Categorical - Categorical)\n",
        "\n",
        "M - Multivariate Analysis\n",
        " ]\n",
        "\n",
        "\n",
        "\n"
      ],
      "metadata": {
        "id": "ZrxVaUj-hHfC"
      }
    },
    {
      "cell_type": "markdown",
      "source": [
        "# ***Let's Begin !***"
      ],
      "metadata": {
        "id": "O_i_v8NEhb9l"
      }
    },
    {
      "cell_type": "markdown",
      "source": [
        "## ***1. Know Your Data***"
      ],
      "metadata": {
        "id": "HhfV-JJviCcP"
      }
    },
    {
      "cell_type": "markdown",
      "source": [
        "### Import Libraries"
      ],
      "metadata": {
        "id": "Y3lxredqlCYt"
      }
    },
    {
      "cell_type": "code",
      "source": [
        "# Import Libraries\n",
        "\n",
        "import pandas as pd\n",
        "import numpy as np\n",
        "import matplotlib.pyplot as plt\n",
        "import seaborn as sns\n",
        "import warnings\n",
        "warnings.filterwarnings('ignore')"
      ],
      "metadata": {
        "id": "M8Vqi-pPk-HR"
      },
      "execution_count": null,
      "outputs": []
    },
    {
      "cell_type": "markdown",
      "source": [
        "### Dataset Loading"
      ],
      "metadata": {
        "id": "3RnN4peoiCZX"
      }
    },
    {
      "cell_type": "code",
      "source": [
        "from google.colab import drive\n",
        "drive.mount('/content/drive')"
      ],
      "metadata": {
        "id": "CdCG76dfvVnf"
      },
      "execution_count": null,
      "outputs": []
    },
    {
      "cell_type": "code",
      "source": [
        "# Load Dataset\n",
        "\n",
        "df=pd.read_csv(\"/content/drive/MyDrive/csv/Hotel Bookings.csv\")"
      ],
      "metadata": {
        "id": "4CkvbW_SlZ_R"
      },
      "execution_count": null,
      "outputs": []
    },
    {
      "cell_type": "markdown",
      "source": [
        "### Dataset First View"
      ],
      "metadata": {
        "id": "x71ZqKXriCWQ"
      }
    },
    {
      "cell_type": "code",
      "source": [
        "# Dataset First Look\n",
        "\n",
        "df.head()"
      ],
      "metadata": {
        "id": "LWNFOSvLl09H"
      },
      "execution_count": null,
      "outputs": []
    },
    {
      "cell_type": "code",
      "source": [
        "df.tail()"
      ],
      "metadata": {
        "id": "l10IM_X_3hAp"
      },
      "execution_count": null,
      "outputs": []
    },
    {
      "cell_type": "markdown",
      "source": [
        "### Dataset Rows & Columns count"
      ],
      "metadata": {
        "id": "7hBIi_osiCS2"
      }
    },
    {
      "cell_type": "code",
      "source": [
        "# Dataset Rows & Columns count\n",
        "\n",
        "df.shape\n"
      ],
      "metadata": {
        "id": "Kllu7SJgmLij"
      },
      "execution_count": null,
      "outputs": []
    },
    {
      "cell_type": "markdown",
      "source": [
        "The given dataset has 119390 Rows and 32 Columns"
      ],
      "metadata": {
        "id": "KsNVfeDonK2P"
      }
    },
    {
      "cell_type": "markdown",
      "source": [
        "### Dataset Information"
      ],
      "metadata": {
        "id": "JlHwYmJAmNHm"
      }
    },
    {
      "cell_type": "code",
      "source": [
        "# Dataset Info\n",
        "\n",
        "df.info()\n"
      ],
      "metadata": {
        "id": "e9hRXRi6meOf"
      },
      "execution_count": null,
      "outputs": []
    },
    {
      "cell_type": "markdown",
      "source": [
        "#### Duplicate Values"
      ],
      "metadata": {
        "id": "35m5QtbWiB9F"
      }
    },
    {
      "cell_type": "code",
      "source": [
        "# Dataset Duplicate Value Count\n",
        "\n",
        "duplicate_counts =df.duplicated()\n",
        "\n",
        "print(duplicate_counts.value_counts())\n",
        "\n",
        "\n",
        "        ## OR ##\n",
        "\n",
        "\n",
        "len(df[df.duplicated()])"
      ],
      "metadata": {
        "id": "1sLdpKYkmox0"
      },
      "execution_count": null,
      "outputs": []
    },
    {
      "cell_type": "markdown",
      "source": [
        "The dataset contains 31944 duplicate rows"
      ],
      "metadata": {
        "id": "RgfAnKAdncRy"
      }
    },
    {
      "cell_type": "markdown",
      "source": [
        "#### Missing Values/Null Values"
      ],
      "metadata": {
        "id": "PoPl-ycgm1ru"
      }
    },
    {
      "cell_type": "code",
      "source": [
        "# Missing Values/Null Values Count\n",
        "\n",
        "df.isnull().sum()"
      ],
      "metadata": {
        "id": "GgHWkxvamxVg"
      },
      "execution_count": null,
      "outputs": []
    },
    {
      "cell_type": "markdown",
      "source": [
        "while checking null values , there are many columns which contains null/missing values"
      ],
      "metadata": {
        "id": "RMG6PtSwnPJR"
      }
    },
    {
      "cell_type": "code",
      "source": [
        "#creating a copy of data set\n",
        "df1=df.copy()"
      ],
      "metadata": {
        "id": "wjJ1MPIpoVMM"
      },
      "execution_count": null,
      "outputs": []
    },
    {
      "cell_type": "markdown",
      "source": [
        "### What did you know about your dataset?"
      ],
      "metadata": {
        "id": "H0kj-8xxnORC"
      }
    },
    {
      "cell_type": "markdown",
      "source": [
        "\n",
        "The given dataset gives booking information of two types hotet:\n",
        "\n",
        "* City Hotel\n",
        "* Resort Hotel\n",
        "\n",
        "It gives us customer details like when did the customer booked the hotel,in which year,month,week number customer arrived and what was his total stay in the hotel.What type of meal customer opted and what type of room was alloted.\n",
        "it also gives us some personal information like what is the customer type,from which country customer belongs to,was he/she alone or in a group,how many children/babies were there\n",
        "\n",
        "\n",
        "\"I am performing exploratory data analysis on a hotel booking dataset. The dataset contains information on reservations, customer demographics, and booking patterns. The goal is to uncover insights, trends, and potential factors influencing booking behaviors.\"\n",
        "\n",
        "\n",
        "The above dataset has 119390 rows and 32 columns. There are some mising values for column [\"Company\",\"agent\",\"country\"] and 31994 duplicate values in the dataset.\n",
        "So first Goal is to clean dataset to optimize given dataset efficiently and analyse easily.\n",
        "\n",
        "The following points Behind data analysis to achive Goal :\n",
        "\n",
        "\n",
        "**Reservation Patterns:**\n",
        "\n",
        "Analyzing customer demographics involves understanding patterns in reservation behavior, including booking frequency, preferred booking channels, and typical lead times.\n",
        "\n",
        "**Cancellation Trends:**\n",
        "\n",
        "Examining demographics can reveal insights into cancellation tendencies, helping to understand which customer segments are more likely to cancel reservations and why. This information is crucial for optimizing cancellation policies and improving customer satisfaction."
      ],
      "metadata": {
        "id": "gfoNAAC-nUe_"
      }
    },
    {
      "cell_type": "markdown",
      "source": [
        "## ***2. Understanding Your Variables***"
      ],
      "metadata": {
        "id": "nA9Y7ga8ng1Z"
      }
    },
    {
      "cell_type": "code",
      "source": [
        "# Dataset Columns\n",
        "\n",
        "df.columns"
      ],
      "metadata": {
        "id": "j7xfkqrt5Ag5"
      },
      "execution_count": null,
      "outputs": []
    },
    {
      "cell_type": "code",
      "source": [
        "# Dataset Describe\n",
        "\n",
        "df.describe(include='all')"
      ],
      "metadata": {
        "id": "DnOaZdaE5Q5t"
      },
      "execution_count": null,
      "outputs": []
    },
    {
      "cell_type": "markdown",
      "source": [
        "### Variables Description"
      ],
      "metadata": {
        "id": "PBTbrJXOngz2"
      }
    },
    {
      "cell_type": "markdown",
      "source": [
        "\n",
        "1.   Hotel:Two types of Hotels :\n",
        "* City Hotel\n",
        "* Resort Hotel\n",
        "\n",
        "2. is_canceled:if the booking was canceled (1) or not (0)\n",
        "3. lead_time : How many days customer has booked the hotel in advance\n",
        "4. arrival_date_year: year of arrival date\n",
        "5. arrival_date_month : month of arrival date\n",
        "6. arrival_date_week_number:week number for arrival date\n",
        "7. arrival_date_day_of month: Day of arrival date\n",
        "8. stays_in_weekend_nights :Number of weekend nights (saturday or sunday) the guest satyed or booked to stay at the hotel\n",
        "9. stays_in_week_nights :Number of week nights (Monday to Friday) the guest satyed or booked to stay at the hotel\n",
        "10. adults :Number of adults\n",
        "11. children : Number of children\n",
        "12. babies : Number of babies\n",
        "13. meal :Kind of meal customer has Opted for in the hotel\n",
        "* BB :- Bed & Breakfast\n",
        "* FB :- Full Board (Beakfast, Lunch and Dinner)\n",
        "* HB :- Half Board (Breakfast and Dinner normally)\n",
        "* SC/Undefined :- no meal opted\n",
        "\n",
        "14. Country: Code of the country customer belongs to\n",
        "15. market_segment :which segment the customer belongs to\n",
        "16. distribution_channel :How the customer has done booking direct/TA/TO\n",
        "17. is_repeated_guest :Guest coming first time (0) or not (1)\n",
        "18. previous_cancellations :Number of booking canceled by the customer prior to current booking\n",
        "19. previous_bookings_not_canceled :count of previous booking sucessfully made by the customer\n",
        "20. reserved_room_type :Type of room reserved by the customer\n",
        "21. assigned_room_type : Type of room assigned to the customer\n",
        "22. booking_changes :count of changes made to booking\n",
        "23. deposit_type : Deposit type opted by the customer\n",
        "24. agent :ID of travel agent who has made the booking\n",
        "25. company :ID of company that made booking\n",
        "26. customer_type :Type of customer\n",
        "\n",
        "* Transient :when the booking is not part of a group or contract, and is not associated to other transient booking\n",
        "* Contract:when the booking has any type of contract associated with it\n",
        "* Transient_party:when the booking is transient but is associated with at least another transient booking\n",
        "* Group: when the booking is associated with a group\n",
        "\n",
        "27. days_in_waiting_list:Number of days customer had to wait to get booking confirm\n",
        "28. adr :A hotel’s ADR, (Average Daily Rate) is the measure of the average rate paid per room that’s occupied at the property\n",
        "29. required_car_parking_spaces :if car parking is required\n",
        "30. total_of_special_requests : Number of additional special requests made by the customer\n",
        "31. reservation_status :Reservation status whether the customer has checked-in or cancelled or not shown.\n",
        "32. reservation_status_date :Date at which last reservation status was made\n",
        "\n",
        "\n",
        "\n"
      ],
      "metadata": {
        "id": "ARHs5Pawo30b"
      }
    },
    {
      "cell_type": "markdown",
      "source": [
        "# **Dataset Cleaning 🧹**"
      ],
      "metadata": {
        "id": "wMTQSzc503o_"
      }
    },
    {
      "cell_type": "code",
      "source": [
        "\n",
        "#droping all duplicate values\n",
        "df.drop_duplicates(inplace=True)\n"
      ],
      "metadata": {
        "id": "hOtXrjq807Yd"
      },
      "execution_count": null,
      "outputs": []
    },
    {
      "cell_type": "markdown",
      "source": [
        "drop_duplicates is a method in pandas use to remove duplicates value from given dataset"
      ],
      "metadata": {
        "id": "hgXwJ4uwECOC"
      }
    },
    {
      "cell_type": "code",
      "source": [
        "\n",
        "#check shape after droping duplicate rows\n",
        "df.shape"
      ],
      "metadata": {
        "id": "1dPkAtmf03D5"
      },
      "execution_count": null,
      "outputs": []
    },
    {
      "cell_type": "markdown",
      "source": [
        "After droping all duplicate rows, now we have 87396 Rows and 32 Columns remaining.Now we will try to find out all missing/null values"
      ],
      "metadata": {
        "id": "JRCIfTI01cOO"
      }
    },
    {
      "cell_type": "markdown",
      "source": [
        "Missing Values/Null Values"
      ],
      "metadata": {
        "id": "V6iFZ5ci1hil"
      }
    },
    {
      "cell_type": "code",
      "source": [
        "#check whether contains null value or not\n",
        "df.isnull().values.any()"
      ],
      "metadata": {
        "id": "chPBDOuH1e_2"
      },
      "execution_count": null,
      "outputs": []
    },
    {
      "cell_type": "code",
      "source": [
        "# Check how many null values contain columns and order it by decending order\n",
        "print((df.isnull().sum()).sort_values(ascending=False))\n"
      ],
      "metadata": {
        "id": "-YaXCqEm14Dh"
      },
      "execution_count": null,
      "outputs": []
    },
    {
      "cell_type": "markdown",
      "source": [
        "Here we found out that company,agent,country,children contains null value.Company and agent columns contains maximum null value.so we wil drop these two columns in future steps and we will replace null values in country and children column"
      ],
      "metadata": {
        "id": "JvJI0BeR5gcD"
      }
    },
    {
      "cell_type": "code",
      "source": [
        "\n",
        "# Visualizing the missing values\n",
        "\n",
        "# Checking Null Value by plotting Heatmap\n",
        "\n",
        "plt.figure(figsize=(8,6))\n",
        "sns.heatmap(df.isnull(), cmap='YlOrRd', cbar=False)  # Use 'YlOrRd' colormap for orange color\n",
        "plt.title('Null Values Heatmap')\n",
        "plt.show()\n",
        "\n"
      ],
      "metadata": {
        "id": "2fteJJJM55Qi"
      },
      "execution_count": null,
      "outputs": []
    },
    {
      "cell_type": "markdown",
      "source": [
        "\"We have a missing values visualization. It can be clearly seen that there is a significant amount of missing values present in the 'agent' and 'company' columns.\""
      ],
      "metadata": {
        "id": "dLUXMXaa_Jbr"
      }
    },
    {
      "cell_type": "code",
      "source": [
        "# Percentage of null values\n",
        "pd.DataFrame(round(df.isna().sum()*100/len(df),4))\n"
      ],
      "metadata": {
        "id": "2-uQ3gJGC8c8"
      },
      "execution_count": null,
      "outputs": []
    },
    {
      "cell_type": "markdown",
      "source": [
        "Children, country, agent, and company variables have null values of 0.0046%, 0.5172%, 13.9514%, and 93.9826%, respectively. Variable companies having more than 50% null values"
      ],
      "metadata": {
        "id": "qTOhejpnC7h4"
      }
    },
    {
      "cell_type": "code",
      "source": [
        "# Dropping column having more than 50% null values\n",
        "df.drop(columns='company', inplace=True)"
      ],
      "metadata": {
        "id": "8g6OogA5DVne"
      },
      "execution_count": null,
      "outputs": []
    },
    {
      "cell_type": "markdown",
      "source": [
        "Company column having lots of null values so we drop it.\n"
      ],
      "metadata": {
        "id": "FhzXzfyqEeBr"
      }
    },
    {
      "cell_type": "code",
      "source": [
        "# Replacing null values with the most frequent value in a variable\n",
        "\n",
        "df['children']=df['children'].fillna(df['children'].mode()[0])\n",
        "df['country']=df['country'].fillna(df['country'].mode()[0])\n",
        "df['agent']=df['agent'].fillna(df['agent'].mode()[0])"
      ],
      "metadata": {
        "id": "RGW02AiPDsZh"
      },
      "execution_count": null,
      "outputs": []
    },
    {
      "cell_type": "markdown",
      "source": [
        "From above, children, country, and agent are discrete numerical variables, so replaced null values with modes, and the variable company had null values greater than 50%, so removed it."
      ],
      "metadata": {
        "id": "F-6ZYf4ID0ww"
      }
    },
    {
      "cell_type": "code",
      "source": [
        "# Check for null values are removed\n",
        "df.isnull().sum()"
      ],
      "metadata": {
        "id": "lL-fkWp7EypR"
      },
      "execution_count": null,
      "outputs": []
    },
    {
      "cell_type": "markdown",
      "source": [
        "All the null values have been successfully removed."
      ],
      "metadata": {
        "id": "5zTG6GFtE3-t"
      }
    },
    {
      "cell_type": "code",
      "source": [
        "df.shape"
      ],
      "metadata": {
        "id": "s515Kf4IE3WP"
      },
      "execution_count": null,
      "outputs": []
    },
    {
      "cell_type": "markdown",
      "source": [
        "shape method give total number of rows and columns from dataset in tuple format."
      ],
      "metadata": {
        "id": "wQGfjoLyFFUP"
      }
    },
    {
      "cell_type": "markdown",
      "source": [
        "## 3. ***Data Wrangling and Feature Engineering***"
      ],
      "metadata": {
        "id": "dauF4eBmngu3"
      }
    },
    {
      "cell_type": "markdown",
      "source": [
        "### Data Wrangling Code"
      ],
      "metadata": {
        "id": "bKJF3rekwFvQ"
      }
    },
    {
      "cell_type": "code",
      "source": [
        "# Write your code to make your dataset analysis ready."
      ],
      "metadata": {
        "id": "wk-9a2fpoLcV"
      },
      "execution_count": null,
      "outputs": []
    },
    {
      "cell_type": "markdown",
      "source": [
        "### Check Unique Values for each variable."
      ],
      "metadata": {
        "id": "u3PMJOP6ngxN"
      }
    },
    {
      "cell_type": "code",
      "source": [
        "# Check Unique Values for each variable.\n",
        "display(df.apply(lambda column:column.unique()).to_string)"
      ],
      "metadata": {
        "id": "zms12Yq5n-jE"
      },
      "execution_count": null,
      "outputs": []
    },
    {
      "cell_type": "code",
      "source": [
        "# Checking Unique Values for hotel column.\n",
        "df['hotel'].unique()"
      ],
      "metadata": {
        "id": "5_XiBvBdAGx3"
      },
      "execution_count": null,
      "outputs": []
    },
    {
      "cell_type": "markdown",
      "source": [
        "Two types of hotel in dataset"
      ],
      "metadata": {
        "id": "N6R0u69mAQEm"
      }
    },
    {
      "cell_type": "code",
      "source": [
        "\n",
        "#unique value of is_canceled column\n",
        "list(df['is_canceled'].unique())"
      ],
      "metadata": {
        "id": "ZNE9UO2pALQq"
      },
      "execution_count": null,
      "outputs": []
    },
    {
      "cell_type": "markdown",
      "source": [
        "1 means that booking was cancelled and 0 means not cancelled"
      ],
      "metadata": {
        "id": "QCy9NOg8AOy3"
      }
    },
    {
      "cell_type": "code",
      "source": [
        "\n",
        "#unique values of arrival_date_year column\n",
        "df['arrival_date_year'].unique()\n"
      ],
      "metadata": {
        "id": "5RDl2Ad0AYxJ"
      },
      "execution_count": null,
      "outputs": []
    },
    {
      "cell_type": "markdown",
      "source": [
        "# Handling Outliers"
      ],
      "metadata": {
        "id": "IaVeto6ZFmIl"
      }
    },
    {
      "cell_type": "markdown",
      "source": [
        "*Categorical veriables*"
      ],
      "metadata": {
        "id": "Cd7YHP1OGnPg"
      }
    },
    {
      "cell_type": "code",
      "source": [
        "# Obtaining categorical veriables\n",
        "categorical_veriables=[i for i in df.columns if df[i].dtypes=='O']\n",
        "print(f'Dataset having {len(categorical_veriables)} categorical variables')\n",
        "print(categorical_veriables)"
      ],
      "metadata": {
        "id": "wfrz-aUxFoOp"
      },
      "execution_count": null,
      "outputs": []
    },
    {
      "cell_type": "markdown",
      "source": [
        "*Numerical variables*"
      ],
      "metadata": {
        "id": "921r9uGyGvSc"
      }
    },
    {
      "cell_type": "code",
      "source": [
        "# Obtaining Numerical varibles\n",
        "numerical_variables=[i for i in df.columns if df[i].dtypes!='O']\n",
        "print(f'There are {len(numerical_variables)} numerical variables.')\n",
        "print(numerical_variables)\n"
      ],
      "metadata": {
        "id": "hGnK9pmRGz2I"
      },
      "execution_count": null,
      "outputs": []
    },
    {
      "cell_type": "markdown",
      "source": [
        "finding out outlier in each column"
      ],
      "metadata": {
        "id": "FPzhjgVWJqcV"
      }
    },
    {
      "cell_type": "code",
      "source": [
        "\n",
        "plt.rc('font', size=15)\n",
        "plt.figure(figsize=(30,15))\n",
        "sns.boxplot(data=df[['is_canceled','lead_time','arrival_date_week_number','adults','babies','previous_cancellations','booking_changes','days_in_waiting_list','adr','total_of_special_requests']])\n",
        "plt.show()\n"
      ],
      "metadata": {
        "id": "8F7JaSzUI2Od"
      },
      "execution_count": null,
      "outputs": []
    },
    {
      "cell_type": "markdown",
      "source": [
        "After checking for each column only in these columns outliers are present (\n",
        "lead_time, adr, days_in_waiting_list)"
      ],
      "metadata": {
        "id": "cNRn3hC0JafG"
      }
    },
    {
      "cell_type": "code",
      "source": [
        "#outliers are present in lead_time, adr, days_in_waiting_list column\n",
        "plt.rc('font', size=20)\n",
        "plt.figure(figsize=(30,15))\n",
        "sns.boxplot(data=df[['lead_time','adr','days_in_waiting_list']])\n",
        "plt.show()"
      ],
      "metadata": {
        "id": "HSggoyLkJJmE"
      },
      "execution_count": null,
      "outputs": []
    },
    {
      "cell_type": "code",
      "source": [
        "\n",
        "#removing outlier\n",
        "def removing_outlier(col):\n",
        "  print(col)\n",
        "  sorted(col)\n",
        "  q1,q3=col.quantile([0.25,0.75])  # Quantile function divides the dataset in 25% and 75%\n",
        "  IQR=q3-q1                          #Interquartile range\n",
        "  lwr_bound=q1-(1.5*IQR)\n",
        "  upr_bound=q3+(1.5*IQR)\n",
        "  return lwr_bound,upr_bound"
      ],
      "metadata": {
        "id": "nwsNEndvLGEZ"
      },
      "execution_count": null,
      "outputs": []
    },
    {
      "cell_type": "markdown",
      "source": [
        "In above code we define a function to remove outliers from those columns. For removing outliers from columns we just pass the column_name as parameter of that column in remove_outlier function."
      ],
      "metadata": {
        "id": "JvYQn7wVGKJ8"
      }
    },
    {
      "cell_type": "code",
      "source": [
        "\n",
        "#removing outlier from lead_time column\n",
        "low,high=removing_outlier(df['lead_time'])\n",
        "df['lead_time']=np.where(df['lead_time']> high,high,df['lead_time'])\n",
        "df['lead_time']=np.where(df['lead_time']< low,low,df['lead_time'])\n"
      ],
      "metadata": {
        "id": "7UeyK4gHLN8u"
      },
      "execution_count": null,
      "outputs": []
    },
    {
      "cell_type": "markdown",
      "source": [
        "\"We pass the 'lead_time' column to the 'remove_outlier' function, and the values returned by the 'remove_outlier' function are stored in the 'low' and 'high' variables, respectively.\""
      ],
      "metadata": {
        "id": "JS_PK5wcXbPp"
      }
    },
    {
      "cell_type": "code",
      "source": [
        "#removing outlier from adr column\n",
        "low,high=removing_outlier(df['adr'])\n",
        "df['adr']=np.where(df['adr']> high,high,df['adr'])\n",
        "df['adr']=np.where(df['adr']< low,low,df['adr'])\n"
      ],
      "metadata": {
        "id": "CbiHC3XgLhmG"
      },
      "execution_count": null,
      "outputs": []
    },
    {
      "cell_type": "markdown",
      "source": [
        "\"We pass the 'adr' column to the 'remove_outlier' function, and the values returned by the 'remove_outlier' function are stored in the 'low' and 'high' variables, respectively.\""
      ],
      "metadata": {
        "id": "59CjGu5XY0ku"
      }
    },
    {
      "cell_type": "code",
      "source": [
        "#removing outlier from days_in_waiting list\n",
        "low,high=removing_outlier(df['days_in_waiting_list'])\n",
        "df['days_in_waiting_list']=np.where(df['days_in_waiting_list']> high,high,df['days_in_waiting_list'])\n",
        "df['days_in_waiting_list']=np.where(df['days_in_waiting_list']< low,low,df['days_in_waiting_list'])"
      ],
      "metadata": {
        "id": "ZfK2NBRZLmAO"
      },
      "execution_count": null,
      "outputs": []
    },
    {
      "cell_type": "markdown",
      "source": [
        "\"We pass the 'days_in_waiting_list' column to the 'remove_outlier' function, and the values returned by the 'remove_outlier' function are stored in the 'low' and 'high' variables, respectively.\""
      ],
      "metadata": {
        "id": "RQReoJ3fZBRi"
      }
    },
    {
      "cell_type": "code",
      "source": [
        "\n",
        "#after removing outlier\n",
        "sns.set_style('whitegrid')\n",
        "plt.rc('font',size=20)\n",
        "plt.figure(figsize=(10,5))\n",
        "sns.boxplot(data=df[['lead_time','adr','days_in_waiting_list']])\n",
        "plt.show()"
      ],
      "metadata": {
        "id": "K_iasrxoLsCy"
      },
      "execution_count": null,
      "outputs": []
    },
    {
      "cell_type": "markdown",
      "source": [
        "\"From the above graph, we can conclude that we have successfully removed outliers from the columns ('lead_time', 'adr', 'days_in_waiting_list').\""
      ],
      "metadata": {
        "id": "Vp1ad3TSZSDF"
      }
    },
    {
      "cell_type": "code",
      "source": [
        "\n",
        "# Adding 'total_stay' column using 'stays_in_weekend_nights' & 'stays_in_week_nights' columns\n",
        "df['total_stay'] = df['stays_in_weekend_nights'] + df['stays_in_week_nights']\n"
      ],
      "metadata": {
        "id": "Q_1mpxWNbzz0"
      },
      "execution_count": null,
      "outputs": []
    },
    {
      "cell_type": "markdown",
      "source": [
        "We calculate the days that people are stay and store it in new column name as total_stay."
      ],
      "metadata": {
        "id": "wQOt0UZHb6fE"
      }
    },
    {
      "cell_type": "code",
      "source": [
        "print(df['children'].unique())\n",
        "print(df['agent'].unique())"
      ],
      "metadata": {
        "id": "Y4tuQVoLeWkb"
      },
      "execution_count": null,
      "outputs": []
    },
    {
      "cell_type": "markdown",
      "source": [
        "Check unique values for childern and agent Column"
      ],
      "metadata": {
        "id": "FI3qWp1weXwT"
      }
    },
    {
      "cell_type": "code",
      "source": [
        "# Change datatype of variables children and agent to correct format from float64 to int64\n",
        "df[['children','agent']]=df[['children','agent']].astype('int64')\n"
      ],
      "metadata": {
        "id": "5tc0bm0BcX4Z"
      },
      "execution_count": null,
      "outputs": []
    },
    {
      "cell_type": "markdown",
      "source": [
        "Change datatype of variables children and agent to correct format from float64 to int64"
      ],
      "metadata": {
        "id": "pFDCY7EEe6TP"
      }
    },
    {
      "cell_type": "code",
      "source": [
        "\n",
        "# Change datatype of variable reservation_status_date to correct format from object to datetime64\n",
        "df['reservation_status_date']=pd.to_datetime(df['reservation_status_date'], format='%Y-%m-%d')"
      ],
      "metadata": {
        "id": "pNaK6iYocZ3w"
      },
      "execution_count": null,
      "outputs": []
    },
    {
      "cell_type": "markdown",
      "source": [
        "Change datatype of variable reservation_status_date to correct format from object to datetime64"
      ],
      "metadata": {
        "id": "tg1WWGbEe9VR"
      }
    },
    {
      "cell_type": "code",
      "source": [
        "# Checking datatype\n",
        "df[['children','agent','reservation_status_date']].info()"
      ],
      "metadata": {
        "id": "7ulEeJUPfapD"
      },
      "execution_count": null,
      "outputs": []
    },
    {
      "cell_type": "code",
      "source": [
        "\n",
        "#adding 'total_guest' column using 'aduts','children' and 'babies' columns\n",
        "df['total_guests']=df['adults']+df['children']+df['babies']"
      ],
      "metadata": {
        "id": "rq-g8r7FfFV_"
      },
      "execution_count": null,
      "outputs": []
    },
    {
      "cell_type": "markdown",
      "source": [
        "adding 'total_guest' column using 'aduts','children' and 'babies' columns"
      ],
      "metadata": {
        "id": "Ij-zRjr0fNIS"
      }
    },
    {
      "cell_type": "code",
      "source": [
        "# Creating 'reserved_room_assigned' variable which describe same room assigned or not\n",
        "df['reserved_room_assigned']=np.where(df['reserved_room_type']==df['assigned_room_type'], 'yes', 'no')"
      ],
      "metadata": {
        "id": "zD-yDZUtfuR4"
      },
      "execution_count": null,
      "outputs": []
    },
    {
      "cell_type": "markdown",
      "source": [
        "Creating 'reserved_room_assigned' variable which describe same room assigned or not"
      ],
      "metadata": {
        "id": "eGKkcT67f8Du"
      }
    },
    {
      "cell_type": "code",
      "source": [
        "# Creating 'guest_category' from variable 'total_guests'\n",
        "df['guest_category']=np.where(df['total_guests']==1, 'single',np.where(df['total_guests']==2, 'couple', 'family'))"
      ],
      "metadata": {
        "id": "zoMKG7u0gIAd"
      },
      "execution_count": null,
      "outputs": []
    },
    {
      "cell_type": "markdown",
      "source": [
        "Creating 'guest_category' from variable 'total_guests'"
      ],
      "metadata": {
        "id": "C_UcgMpPgd5Z"
      }
    },
    {
      "cell_type": "code",
      "source": [
        "# Creating 'lead_time_category' from 'lead_time' variale to display category\n",
        "df['lead_time_category']=np.where(df['lead_time']<=15, 'low',np.where((df['lead_time']>15) & (df['lead_time']<90), 'medium', 'high'))"
      ],
      "metadata": {
        "id": "fZaDECkzgyA4"
      },
      "execution_count": null,
      "outputs": []
    },
    {
      "cell_type": "markdown",
      "source": [
        "Creating 'lead_time_category' from 'lead_time' variale to display category"
      ],
      "metadata": {
        "id": "gMRw-hdug5rl"
      }
    },
    {
      "cell_type": "code",
      "source": [
        "#meal contains undefined meal type which is same as 'SC' so we will combine them\n",
        "df['meal'].replace('Undefined','SC',inplace=True)"
      ],
      "metadata": {
        "id": "wkx1_AqlhPcs"
      },
      "execution_count": null,
      "outputs": []
    },
    {
      "cell_type": "markdown",
      "source": [
        "meal contains undefined meal type which is same as 'SC' so we will combine them"
      ],
      "metadata": {
        "id": "qFgoW_cehzbX"
      }
    },
    {
      "cell_type": "code",
      "source": [
        "# Check for unique meal types.\n",
        "df['meal'].unique()"
      ],
      "metadata": {
        "id": "Xc8oK2dLirml"
      },
      "execution_count": null,
      "outputs": []
    },
    {
      "cell_type": "code",
      "source": [
        "\n",
        "#find out most common meal type in percentage\n",
        "df.meal.value_counts(normalize=True)*100"
      ],
      "metadata": {
        "id": "kmhApBiJil30"
      },
      "execution_count": null,
      "outputs": []
    },
    {
      "cell_type": "markdown",
      "source": [
        "Bed & Breakfast is most prefered meal type.\n"
      ],
      "metadata": {
        "id": "FSYRQIwri64A"
      }
    },
    {
      "cell_type": "code",
      "source": [
        "\n",
        "#most common hotel booked in %age\n",
        "df.hotel.value_counts(normalize=True)*100"
      ],
      "metadata": {
        "id": "qAyeIVKxi6BI"
      },
      "execution_count": null,
      "outputs": []
    },
    {
      "cell_type": "markdown",
      "source": [
        "City hotel mostly booked by the customers."
      ],
      "metadata": {
        "id": "DlpBxJaajUh2"
      }
    },
    {
      "cell_type": "code",
      "source": [
        "\n",
        "# in which year maximun customer has arrived / peak year for booking\n",
        "df.arrival_date_year.value_counts(normalize=True)*100"
      ],
      "metadata": {
        "id": "NLOLfxqPjcts"
      },
      "execution_count": null,
      "outputs": []
    },
    {
      "cell_type": "markdown",
      "source": [
        "So we clearly see that 2016 is the peak year of booking."
      ],
      "metadata": {
        "id": "0KJoGjNHjiHI"
      }
    },
    {
      "cell_type": "code",
      "source": [
        "\n",
        "# peak month of booking where maximun customer arrived\n",
        "df.arrival_date_month.value_counts()"
      ],
      "metadata": {
        "id": "eArKXPfhjqPf"
      },
      "execution_count": null,
      "outputs": []
    },
    {
      "cell_type": "markdown",
      "source": [
        "In August Month lots of booking is done by customers."
      ],
      "metadata": {
        "id": "BvwwUgyTjv-_"
      }
    },
    {
      "cell_type": "code",
      "source": [
        "#  for august month how many customer book hotel and resort hotel\n",
        "\n",
        "df[df['arrival_date_month']=='August'].hotel.value_counts()\n"
      ],
      "metadata": {
        "id": "nsYNBUvuj_8m"
      },
      "execution_count": null,
      "outputs": []
    },
    {
      "cell_type": "markdown",
      "source": [
        "So for 'August' month 6591 people are go for City Hotel and 4666 peoples are book resort Hotel"
      ],
      "metadata": {
        "id": "K1AcqIC_kSwH"
      }
    },
    {
      "cell_type": "code",
      "source": [
        "#from which country maximum guest arrived\n",
        "df.country.value_counts()"
      ],
      "metadata": {
        "id": "B1dSk6N1ksvt"
      },
      "execution_count": null,
      "outputs": []
    },
    {
      "cell_type": "markdown",
      "source": [
        "Portugal,Great Britain,France,spain are the countries from where maximun customer are arrived."
      ],
      "metadata": {
        "id": "RdtVUNkzkxjy"
      }
    },
    {
      "cell_type": "code",
      "source": [
        "# \"Which country has a higher percentage of hotel bookings?\"\n",
        "df['country'].value_counts(normalize=True).idxmax()"
      ],
      "metadata": {
        "id": "8o0zcQdp7tQk"
      },
      "execution_count": null,
      "outputs": []
    },
    {
      "cell_type": "markdown",
      "source": [
        "\"A higher percentage of hotel bookings comes from the people of Portugal.\""
      ],
      "metadata": {
        "id": "5yHSOo6Q9qhG"
      }
    },
    {
      "cell_type": "code",
      "source": [
        "#most common customer type\n",
        "df.customer_type.value_counts(normalize=True)*100"
      ],
      "metadata": {
        "id": "eUZ8L3Vhk9Nr"
      },
      "execution_count": null,
      "outputs": []
    },
    {
      "cell_type": "markdown",
      "source": [
        "Transient type of customers has done maximum booking"
      ],
      "metadata": {
        "id": "r02byI-zlFfc"
      }
    },
    {
      "cell_type": "code",
      "source": [
        "# check for repeated guests.\n",
        "df.is_repeated_guest.value_counts(normalize=True)*100\n"
      ],
      "metadata": {
        "id": "gstRhsHElE9f"
      },
      "execution_count": null,
      "outputs": []
    },
    {
      "cell_type": "markdown",
      "source": [
        "zero indicates Most of the guest has first time visit to the hotel."
      ],
      "metadata": {
        "id": "HYbOi6kols5X"
      }
    },
    {
      "cell_type": "code",
      "source": [
        "# Which room is mostly assigned to customers\n",
        "df.assigned_room_type.value_counts(normalize=True)*100"
      ],
      "metadata": {
        "id": "0ne4qjZplxBj"
      },
      "execution_count": null,
      "outputs": []
    },
    {
      "cell_type": "markdown",
      "source": [
        "A type room is the mostly assigned to the customer."
      ],
      "metadata": {
        "id": "IjaCSb7sl4_D"
      }
    },
    {
      "cell_type": "code",
      "source": [
        "#which hotel has highest booking cancelation\n",
        "\n",
        "cancel=df[df['is_canceled']==1].groupby('hotel')\n",
        "x1=pd.DataFrame(cancel.size()).rename(columns={0:'canceled_booking'})\n",
        "total_booking=df.groupby('hotel')\n",
        "x2=pd.DataFrame(total_booking.size()).rename(columns={0:'total_booking'})\n",
        "result=pd.concat([x1,x2],axis=1)\n",
        "result['%cancelation']=round((result['canceled_booking']/result['total_booking'])*100,2)\n",
        "result"
      ],
      "metadata": {
        "id": "lv5U8Zj6l8Zy"
      },
      "execution_count": null,
      "outputs": []
    },
    {
      "cell_type": "markdown",
      "source": [
        "Mostly booking of city hotels is canceled by customers."
      ],
      "metadata": {
        "id": "EaEZXe9IqAPX"
      }
    },
    {
      "cell_type": "code",
      "source": [
        "# Average adr of each hotel type\n",
        "avg_adr = total_booking['adr'].agg(np.mean).reset_index().rename(columns = {'adr':'avg_adr'})\n",
        "avg_adr"
      ],
      "metadata": {
        "id": "dSrhTJwcqbML"
      },
      "execution_count": null,
      "outputs": []
    },
    {
      "cell_type": "markdown",
      "source": [
        "### What all manipulations have you done and insights you found?"
      ],
      "metadata": {
        "id": "MSa1f5Uengrz"
      }
    },
    {
      "cell_type": "markdown",
      "source": [
        "* \"Firstly, I identified outliers in each column and found that the 'lead_time,' 'adr,' and 'days_in_waiting_list' columns had larger outliers. I then removed the outliers from each of these columns.\"\n",
        "\n",
        "* \"I added a 'total_stay' column using the 'stays_in_weekend_nights' and 'stays_in_week_nights' columns, and a 'total_guests' column using the 'adults,' 'children,' and 'babies' columns.\"\n",
        "\n",
        "* \"I then analyzed all the columns and discovered the following:\n",
        "> * Approximately 77% of customers opted for the BB meal type.\n",
        "> *About 61% of customers booked the city hotel, which had the highest average adr.\n",
        "> *The peak year for bookings was 2016, and the peak month was August.\"\n",
        "\n",
        "\n",
        "* \"The maximum number of customers came from Portugal, followed by Great Britain, France, and Spain.\n",
        "> * Approximately 72% of customers were of the Transient type.\n",
        "> *Around 97% of the customers had their first booking at the hotel.\n",
        "> *A-type rooms were assigned to approximately 52% of the customers.\n",
        "> *The city hotel experienced the highest cancellation rate, at around 30%.\""
      ],
      "metadata": {
        "id": "LbyXE7I1olp8"
      }
    },
    {
      "cell_type": "markdown",
      "source": [
        "## ***4. Data Vizualization, Storytelling & Experimenting with charts : Understand the relationships between variables***"
      ],
      "metadata": {
        "id": "GF8Ens_Soomf"
      }
    },
    {
      "cell_type": "markdown",
      "source": [
        "#### Chart - 1\n",
        "\n",
        "**Which Type Hotel Is Booked by the Customer ?**"
      ],
      "metadata": {
        "id": "0wOQAZs5pc--"
      }
    },
    {
      "cell_type": "code",
      "source": [
        "# Chart - 1 visualization code\n",
        "#using histogram to plot 'Hotel Booking'\n",
        "\n",
        "# Assuming df is your DataFrame and 'hotel' is a column in it\n",
        "\n",
        "# Set Seaborn style\n",
        "sns.set_style('whitegrid')\n",
        "\n",
        "# Set the size of the figure\n",
        "plt.figure(figsize=(8, 6))\n",
        "\n",
        "# Create a count plot for the 'hotel' column\n",
        "sns.countplot(data=df, x='hotel')\n",
        "\n",
        "# Set title and adjust font size\n",
        "plt.title('Type of Hotel Booked', fontsize=15)\n",
        "\n",
        "# Show the plot\n",
        "plt.show()\n"
      ],
      "metadata": {
        "id": "7v_ESjsspbW7"
      },
      "execution_count": null,
      "outputs": []
    },
    {
      "cell_type": "code",
      "source": [
        "#using pie chats to plot percentage of booking\n",
        "plt.pie(x=df.hotel.value_counts(),explode=[0.01,0],labels=['City Hotel','Resort Hotel'],autopct=\"%0.1f%%\",shadow=True,textprops={'fontsize':13})\n",
        "plt.legend(bbox_to_anchor=(1,1))\n",
        "plt.title('Type of Hotel Booked',fontsize=16)\n",
        "plt.show()"
      ],
      "metadata": {
        "id": "qXF4lcJP3GC0"
      },
      "execution_count": null,
      "outputs": []
    },
    {
      "cell_type": "markdown",
      "source": [
        "We can see that the percent of City hotel is more compared to Resort hotel.\n",
        "Resort Hotel tend to be on the expensive side and most people will just stick with city hotel."
      ],
      "metadata": {
        "id": "mrOwdMHq6Nhg"
      }
    },
    {
      "cell_type": "markdown",
      "source": [
        "##### 1. Why did you pick the specific chart?"
      ],
      "metadata": {
        "id": "K5QZ13OEpz2H"
      }
    },
    {
      "cell_type": "markdown",
      "source": [
        "**\"I created a bar chart and a pie chart to analyze which type of hotel had the maximum bookings and determine the percentage difference.\"**"
      ],
      "metadata": {
        "id": "XESiWehPqBRc"
      }
    },
    {
      "cell_type": "markdown",
      "source": [
        "##### 2. What is/are the insight(s) found from the chart?"
      ],
      "metadata": {
        "id": "lQ7QKXXCp7Bj"
      }
    },
    {
      "cell_type": "markdown",
      "source": [
        "**\"I discovered that the City hotel is a popular choice among customers, with approximately 61% of them booking this hotel over a period of three years.\"**"
      ],
      "metadata": {
        "id": "C_j1G7yiqdRP"
      }
    },
    {
      "cell_type": "markdown",
      "source": [
        "##### 3. Will the gained insights help creating a positive business impact?\n",
        "Are there any insights that lead to negative growth? Justify with specific reason."
      ],
      "metadata": {
        "id": "448CDAPjqfQr"
      }
    },
    {
      "cell_type": "markdown",
      "source": [
        "**\"Based on the above observation, it seems that the Resort hotel might be slightly more expensive compared to the City hotel. If this is true, the Resort hotel may consider updating its pricing or introducing additional offers with hotel bookings to attract more customers. Similarly, the City hotel could explore offering more incentives to encourage repeat bookings.\"**"
      ],
      "metadata": {
        "id": "3cspy4FjqxJW"
      }
    },
    {
      "cell_type": "markdown",
      "source": [
        "#### Chart - 2\n",
        "\n",
        "**Which is the Preferred Meal Type ?**"
      ],
      "metadata": {
        "id": "KSlN3yHqYklG"
      }
    },
    {
      "cell_type": "code",
      "source": [
        "# Chart - 2 visualization code\n",
        "\n",
        "#using seaborn countplot to plot Meal\n",
        "sns.set_style('whitegrid')\n",
        "plt.figure(figsize=(10,7))\n",
        "sns.countplot(x=df['meal'])\n",
        "plt.xlabel('Meal Type',fontsize=20)\n",
        "plt.title('Preferred Meal Type',fontsize=20)\n",
        "plt.show()\n"
      ],
      "metadata": {
        "id": "R4YgtaqtYklH"
      },
      "execution_count": null,
      "outputs": []
    },
    {
      "cell_type": "code",
      "source": [
        "#using pie chart to show percentage distribution\n",
        "plt.figure(figsize=(7,7))\n",
        "plt.pie(x=df.meal.value_counts(),explode=[0,0,0,0],labels=['BB','SC','HB','FB'],autopct=\"%0.1f%%\",shadow=True,textprops={'fontsize':13})\n",
        "plt.legend(bbox_to_anchor=(1,1))\n",
        "plt.title('Preferred Meal Type',fontsize=15)\n",
        "plt.show()"
      ],
      "metadata": {
        "id": "sjURLC_s-uNf"
      },
      "execution_count": null,
      "outputs": []
    },
    {
      "cell_type": "markdown",
      "source": [
        "##### 1. Why did you pick the specific chart?"
      ],
      "metadata": {
        "id": "t6dVpIINYklI"
      }
    },
    {
      "cell_type": "markdown",
      "source": [
        "**\"I used a seaborn count plot and a pie chart to illustrate the distribution of meal types and determine which one is most commonly opted for by customers.\"**"
      ],
      "metadata": {
        "id": "5aaW0BYyYklI"
      }
    },
    {
      "cell_type": "markdown",
      "source": [
        "##### 2. What is/are the insight(s) found from the chart?"
      ],
      "metadata": {
        "id": "ijmpgYnKYklI"
      }
    },
    {
      "cell_type": "markdown",
      "source": [
        "**\"As I used a countplot and pie chart, it revealed that Bed & Breakfast is the most commonly opted meal by customers in the hotel, with approximately 78% of customers choosing this option.\"**"
      ],
      "metadata": {
        "id": "PSx9atu2YklI"
      }
    },
    {
      "cell_type": "markdown",
      "source": [
        "##### 3. Will the gained insights help creating a positive business impact?\n",
        "Are there any insights that lead to negative growth? Justify with specific reason."
      ],
      "metadata": {
        "id": "-JiQyfWJYklI"
      }
    },
    {
      "cell_type": "markdown",
      "source": [
        "**\"As Bed & Breakfast (BB) is the most preferred option among customers, the hotel management could consider offering attractive promotions for customers opting for BB to upgrade to Half Board (HB) or Full Board (FB). This strategy could contribute to increased revenue. Additionally, for customers not opting for any meal plan, the management might try to encourage them to choose BB by providing discounts or special offers.\"**"
      ],
      "metadata": {
        "id": "BcBbebzrYklV"
      }
    },
    {
      "cell_type": "markdown",
      "source": [
        "#### Chart - 3\n",
        "\n",
        "**Advanced booking cancellation reasons.**"
      ],
      "metadata": {
        "id": "EM7whBJCYoAo"
      }
    },
    {
      "cell_type": "code",
      "source": [
        "# Chart - 3 visualization code\n",
        "\n",
        "plt.figure(figsize=(12,6))\n",
        "sns.barplot(x='arrival_date_year', y='lead_time',hue='is_canceled', data= df)\n",
        "plt.title('Arriving year, Leadtime and Cancelations')"
      ],
      "metadata": {
        "id": "t6GMdE67YoAp"
      },
      "execution_count": null,
      "outputs": []
    },
    {
      "cell_type": "markdown",
      "source": [
        "##### 1. Why did you pick the specific chart?"
      ],
      "metadata": {
        "id": "fge-S5ZAYoAp"
      }
    },
    {
      "cell_type": "markdown",
      "source": [
        "**\"I used a seaborn bar plot illustrate the visual of cancellation reson for hotels and resort.\"**"
      ],
      "metadata": {
        "id": "5dBItgRVYoAp"
      }
    },
    {
      "cell_type": "markdown",
      "source": [
        "##### 2. What is/are the insight(s) found from the chart?"
      ],
      "metadata": {
        "id": "85gYPyotYoAp"
      }
    },
    {
      "cell_type": "markdown",
      "source": [
        "**For all the 3 years, bookings with a lead time less than 100 days have fewer chances of getting canceled, and lead time more than 100 days have more chances of getting canceled.**"
      ],
      "metadata": {
        "id": "4jstXR6OYoAp"
      }
    },
    {
      "cell_type": "markdown",
      "source": [
        "##### 3. Will the gained insights help creating a positive business impact?\n",
        "Are there any insights that lead to negative growth? Justify with specific reason."
      ],
      "metadata": {
        "id": "RoGjAbkUYoAp"
      }
    },
    {
      "cell_type": "markdown",
      "source": [
        "**\"Having a positive insight for business growth involves analyzing the actual count of customers staying in booked hotels. By understanding how hotels staff manage facilities according to customer bookings, businesses can gain insights into potential cancellations. Analyzing visual data can provide an idea of whether a customer may cancel a booking or not.\"**"
      ],
      "metadata": {
        "id": "zfJ8IqMcYoAp"
      }
    },
    {
      "cell_type": "markdown",
      "source": [
        "#### Chart - 4\n",
        "\n",
        "**Peak Year of Booking**"
      ],
      "metadata": {
        "id": "4Of9eVA-YrdM"
      }
    },
    {
      "cell_type": "code",
      "source": [
        "# Chart - 4 visualization code\n",
        "\n",
        "# To find out peak year of booking\n",
        "#bivariate analysis\n",
        "plt.figure(figsize=(15,7))\n",
        "sns.set_style('whitegrid')\n",
        "plt.rc('font',size=15)\n",
        "sns.countplot(x='arrival_date_year',data=df,hue='hotel')\n",
        "plt.legend()\n",
        "plt.title('Peak year of Booking',fontsize=20)\n",
        "plt.xlabel('year',fontsize=20)\n",
        "plt.ylabel('No. of bookings',fontsize=20)\n",
        "plt.show()"
      ],
      "metadata": {
        "id": "irlUoxc8YrdO"
      },
      "execution_count": null,
      "outputs": []
    },
    {
      "cell_type": "markdown",
      "source": [
        "##### 1. Why did you pick the specific chart?"
      ],
      "metadata": {
        "id": "iky9q4vBYrdO"
      }
    },
    {
      "cell_type": "markdown",
      "source": [
        "**\"I selected a count plot to determine the peak year of bookings.\"**"
      ],
      "metadata": {
        "id": "aJRCwT6DYrdO"
      }
    },
    {
      "cell_type": "markdown",
      "source": [
        "##### 2. What is/are the insight(s) found from the chart?"
      ],
      "metadata": {
        "id": "F6T5p64dYrdO"
      }
    },
    {
      "cell_type": "markdown",
      "source": [
        "**\"It has been determined that 2016 was the peak year for both hotels.\"**"
      ],
      "metadata": {
        "id": "Xx8WAJvtYrdO"
      }
    },
    {
      "cell_type": "markdown",
      "source": [
        "##### 3. Will the gained insights help creating a positive business impact?\n",
        "Are there any insights that lead to negative growth? Justify with specific reason."
      ],
      "metadata": {
        "id": "y-Ehk30pYrdP"
      }
    },
    {
      "cell_type": "markdown",
      "source": [
        "**\"Both hotels earned more revenue in the year 2016. However, there was a decrease in bookings in 2017, indicating a need for the hotel management to investigate this matter.\"**"
      ],
      "metadata": {
        "id": "jLNxxz7MYrdP"
      }
    },
    {
      "cell_type": "markdown",
      "source": [
        "#### Chart - 5\n",
        "\n",
        "**Peak Month of Booking**"
      ],
      "metadata": {
        "id": "bamQiAODYuh1"
      }
    },
    {
      "cell_type": "code",
      "source": [
        "# Chart - 5 visualization code\n",
        "# Peak Month  and year of Booking in hotels.\n",
        "plt.figure(figsize=(15, 8))\n",
        "plt.subplot(1, 2, 1)\n",
        "my_plot=sns.countplot(x='arrival_date_year',hue='hotel', data=df, palette='husl')\n",
        "plt.title(\"Arrivals per year in Both hotels \",fontweight=\"bold\", size=20)\n",
        "#rotate x-axis labels\n",
        "my_plot.set_xticklabels(my_plot.get_xticklabels(), rotation=45)\n",
        "plt.subplot(1, 2, 2)\n",
        "my_plot=sns.countplot(data = df, x = 'arrival_date_month')\n",
        "plt.title('Arrivals per month',fontweight=\"bold\", size=20)\n",
        "plt.subplots_adjust(right=1.7)\n",
        "#rotate x-axis labels\n",
        "my_plot.set_xticklabels(my_plot.get_xticklabels(), rotation=45)\n",
        "plt.show()"
      ],
      "metadata": {
        "id": "GTrObZqyq0uH"
      },
      "execution_count": null,
      "outputs": []
    },
    {
      "cell_type": "markdown",
      "source": [
        "##### 1. Why did you pick the specific chart?"
      ],
      "metadata": {
        "id": "QHF8YVU7Yuh3"
      }
    },
    {
      "cell_type": "markdown",
      "source": [
        "**\"I chose a countplot to identify the peak month of bookings.\"**"
      ],
      "metadata": {
        "id": "dcxuIMRPYuh3"
      }
    },
    {
      "cell_type": "markdown",
      "source": [
        "##### 2. What is/are the insight(s) found from the chart?"
      ],
      "metadata": {
        "id": "GwzvFGzlYuh3"
      }
    },
    {
      "cell_type": "markdown",
      "source": [
        "**We can see most of the bookings were in the year 2016 and bookings were done in City hotel.**"
      ],
      "metadata": {
        "id": "uyqkiB8YYuh3"
      }
    },
    {
      "cell_type": "markdown",
      "source": [
        "##### 3. Will the gained insights help creating a positive business impact?\n",
        "Are there any insights that lead to negative growth? Justify with specific reason."
      ],
      "metadata": {
        "id": "qYpmQ266Yuh3"
      }
    },
    {
      "cell_type": "markdown",
      "source": [
        "**\"July and August have the maximum bookings for both types of hotels. The hotel management can maximize advertising efforts during these months and offer special discounts to attract more customers.\"**"
      ],
      "metadata": {
        "id": "_WtzZ_hCYuh4"
      }
    },
    {
      "cell_type": "markdown",
      "source": [
        "#### Chart - 6\n",
        "\n",
        "**How many days people are prefer to stay at hotel?**"
      ],
      "metadata": {
        "id": "OH-pJp9IphqM"
      }
    },
    {
      "cell_type": "code",
      "source": [
        "# Chart - 6 visualization code\n",
        "# find out what is preferred length of stay by the customers\n",
        "df2=df[df['is_canceled']==0]\n",
        "stay = df2[df2['total_stay'] <10]   #considering maximun for 10 days stay\n",
        "plt.figure(figsize = (10,7))\n",
        "sns.countplot(x = stay['total_stay'], hue = stay['hotel'])\n",
        "plt.show()"
      ],
      "metadata": {
        "id": "kuRf4wtuphqN"
      },
      "execution_count": null,
      "outputs": []
    },
    {
      "cell_type": "markdown",
      "source": [
        "##### 1. Why did you pick the specific chart?"
      ],
      "metadata": {
        "id": "bbFf2-_FphqN"
      }
    },
    {
      "cell_type": "markdown",
      "source": [
        "**\"I have chosen a count plot to analyze the preferred length of stay by customers.\"**"
      ],
      "metadata": {
        "id": "loh7H2nzphqN"
      }
    },
    {
      "cell_type": "markdown",
      "source": [
        "##### 2. What is/are the insight(s) found from the chart?"
      ],
      "metadata": {
        "id": "_ouA3fa0phqN"
      }
    },
    {
      "cell_type": "markdown",
      "source": [
        "**\"For the Resort Hotel, most customers prefer a 2-day stay, while for the City Hotel, the majority opt for a 4-day stay.\"**"
      ],
      "metadata": {
        "id": "VECbqPI7phqN"
      }
    },
    {
      "cell_type": "markdown",
      "source": [
        "##### 3. Will the gained insights help creating a positive business impact?\n",
        "Are there any insights that lead to negative growth? Justify with specific reason."
      ],
      "metadata": {
        "id": "Seke61FWphqN"
      }
    },
    {
      "cell_type": "markdown",
      "source": [
        "**\"The average number of stay in both hotels is 2-4 days. Therefore, the hotel management could consider providing special offers for stays of 2-4 days to attract more customers.\"**"
      ],
      "metadata": {
        "id": "DW4_bGpfphqN"
      }
    },
    {
      "cell_type": "markdown",
      "source": [
        "#### Chart - 7\n",
        "\n",
        "** Top 15 Visiting Countries.**"
      ],
      "metadata": {
        "id": "PIIx-8_IphqN"
      }
    },
    {
      "cell_type": "code",
      "source": [
        "# Chart - 7 visualization code\n",
        "\n",
        "#to find out Top 15 visiting countries\n",
        "guest_country=df2['country'].value_counts().reset_index()\n",
        "guest_country.rename(columns={'index':'country_name','country':'No. of guests'},inplace=True)\n",
        "g1=guest_country[guest_country['No. of guests']>650]  #to get top 15 countries\n",
        "plt.figure(figsize = (15,10))\n",
        "sns.set(font_scale=1.5)\n",
        "sns.barplot(x = g1['country_name'], y=g1['No. of guests'])\n",
        "plt.title('Top 15 visiting countries',fontsize=20)\n",
        "plt.xlabel('Country',fontsize=20)\n",
        "plt.ylabel('No. of Guests',fontsize=20)\n",
        "plt.show()\n",
        ""
      ],
      "metadata": {
        "id": "lqAIGUfyphqO"
      },
      "execution_count": null,
      "outputs": []
    },
    {
      "cell_type": "markdown",
      "source": [
        "##### 1. Why did you pick the specific chart?"
      ],
      "metadata": {
        "id": "t27r6nlMphqO"
      }
    },
    {
      "cell_type": "markdown",
      "source": [
        "**\"I chose a seaborn barplot to visualize the number of guests from each country.\"**"
      ],
      "metadata": {
        "id": "iv6ro40sphqO"
      }
    },
    {
      "cell_type": "markdown",
      "source": [
        "##### 2. What is/are the insight(s) found from the chart?"
      ],
      "metadata": {
        "id": "r2jJGEOYphqO"
      }
    },
    {
      "cell_type": "markdown",
      "source": [
        "**\"It has been observed that customers come from various parts of the world in these two hotels. However, more than 50% of the customers belong to Portugal, Great Britain, and France.\"**"
      ],
      "metadata": {
        "id": "Po6ZPi4hphqO"
      }
    },
    {
      "cell_type": "markdown",
      "source": [
        "##### 3. Will the gained insights help creating a positive business impact?\n",
        "Are there any insights that lead to negative growth? Justify with specific reason."
      ],
      "metadata": {
        "id": "b0JNsNcRphqO"
      }
    },
    {
      "cell_type": "markdown",
      "source": [
        "**\"Since most of the guests visiting the hotel are from Portugal and other European countries, the hotel management should focus on advertising more in these countries.\"**"
      ],
      "metadata": {
        "id": "xvSq8iUTphqO"
      }
    },
    {
      "cell_type": "markdown",
      "source": [
        "#### Chart - 8\n",
        "\n",
        "**Distribution Of Booking**"
      ],
      "metadata": {
        "id": "BZR9WyysphqO"
      }
    },
    {
      "cell_type": "code",
      "source": [
        "df.market_segment.value_counts()"
      ],
      "metadata": {
        "id": "LU5mf4T6n31Y"
      },
      "execution_count": null,
      "outputs": []
    },
    {
      "cell_type": "code",
      "source": [
        "# Chart - 8 visualization code\n",
        "\n",
        "\n",
        "#using pie chart to findout percentage\n",
        "plt.figure(figsize=(10 ,12))\n",
        "plt.pie(df.market_segment.value_counts(),labels=['Online TA','Offline TA/TO','Direct','Groups','Corporate','Complementary','Aviation','Undefined'],autopct=\"%0.1f%%\",shadow=True,textprops={'fontsize':13})\n",
        "plt.legend(bbox_to_anchor=(2,1))\n",
        "plt.title('Distribution through different channels')\n",
        "plt.show()"
      ],
      "metadata": {
        "id": "TdPTWpAVphqO"
      },
      "execution_count": null,
      "outputs": []
    },
    {
      "cell_type": "markdown",
      "source": [
        "##### 1. Why did you pick the specific chart?"
      ],
      "metadata": {
        "id": "jj7wYXLtphqO"
      }
    },
    {
      "cell_type": "markdown",
      "source": [
        "**\"I have chosen a pie chart to analyze the distribution of bookings across different market segments.\"**"
      ],
      "metadata": {
        "id": "Ob8u6rCTphqO"
      }
    },
    {
      "cell_type": "markdown",
      "source": [
        "##### 2. What is/are the insight(s) found from the chart?"
      ],
      "metadata": {
        "id": "eZrbJ2SmphqO"
      }
    },
    {
      "cell_type": "markdown",
      "source": [
        "**\"Around 59% of the bookings are done through online travel agents, followed by 16% through offline travel agents.\"**\n"
      ],
      "metadata": {
        "id": "mZtgC_hjphqO"
      }
    },
    {
      "cell_type": "markdown",
      "source": [
        "##### 3. Will the gained insights help creating a positive business impact?\n",
        "Are there any insights that lead to negative growth? Justify with specific reason."
      ],
      "metadata": {
        "id": "rFu4xreNphqO"
      }
    },
    {
      "cell_type": "markdown",
      "source": [
        "**\"The hotel management should make efforts to attract customers to book directly from the company website.\"**"
      ],
      "metadata": {
        "id": "ey_0qi68phqO"
      }
    },
    {
      "cell_type": "markdown",
      "source": [
        "#### Chart - 9\n",
        "\n",
        "** Preferred Booking Channel**"
      ],
      "metadata": {
        "id": "YJ55k-q6phqO"
      }
    },
    {
      "cell_type": "code",
      "source": [
        "# Chart - 9 visualization code\n",
        "\n",
        "# To know most preferred distribution channel for booking\n",
        "plt.figure(figsize=(17,7))\n",
        "sns.set_style('whitegrid')\n",
        "plt.rc('font',size=15)\n",
        "sns.countplot(x='distribution_channel',data=df)\n",
        "plt.title('Distribution through different channels',fontsize=20)\n",
        "plt.xlabel('Type of distribution channel',fontsize=20)\n",
        "plt.ylabel('No. of bookings',fontsize=20)\n",
        "plt.show()"
      ],
      "metadata": {
        "id": "B2aS4O1ophqO"
      },
      "execution_count": null,
      "outputs": []
    },
    {
      "cell_type": "code",
      "source": [
        "#using pie chart to find out percentage distribution among different channels\n",
        "plt.figure(figsize=(7,7))\n",
        "plt.pie(df.distribution_channel.value_counts(),labels=['TA/TO','Direct','corporate','undefined','GDS'],autopct=\"%0.1f%%\",shadow=True,textprops={'fontsize':13})\n",
        "plt.legend(bbox_to_anchor=(1,1))\n",
        "plt.title('Distribution through different channels')\n",
        "plt.show()"
      ],
      "metadata": {
        "id": "96wYnnhwuSSN"
      },
      "execution_count": null,
      "outputs": []
    },
    {
      "cell_type": "markdown",
      "source": [
        "##### 1. Why did you pick the specific chart?"
      ],
      "metadata": {
        "id": "gCFgpxoyphqP"
      }
    },
    {
      "cell_type": "markdown",
      "source": [
        "**\"I selected a seaborn countplot to analyze the preferred distribution type used by customers for booking. Additionally, a pie chart was employed to visualize the percentage distribution.\"**"
      ],
      "metadata": {
        "id": "TVxDimi2phqP"
      }
    },
    {
      "cell_type": "markdown",
      "source": [
        "##### 2. What is/are the insight(s) found from the chart?"
      ],
      "metadata": {
        "id": "OVtJsKN_phqQ"
      }
    },
    {
      "cell_type": "markdown",
      "source": [
        "**\"It was found that 79% of hotel bookings are made through travel agents/travel operators, followed by direct bookings at 15%.\"**"
      ],
      "metadata": {
        "id": "ngGi97qjphqQ"
      }
    },
    {
      "cell_type": "markdown",
      "source": [
        "##### 3. Will the gained insights help creating a positive business impact?\n",
        "Are there any insights that lead to negative growth? Justify with specific reason."
      ],
      "metadata": {
        "id": "lssrdh5qphqQ"
      }
    },
    {
      "cell_type": "markdown",
      "source": [
        "**\"The hotel management can offer discounts, complimentary services, and special offers for direct bookings, as the hotel avoids paying commissions to third parties and maintains a direct relationship with the customer.\"**"
      ],
      "metadata": {
        "id": "tBpY5ekJphqQ"
      }
    },
    {
      "cell_type": "markdown",
      "source": [
        "#### Chart - 10\n",
        "\n",
        "**Guest Repeating Status**"
      ],
      "metadata": {
        "id": "U2RJ9gkRphqQ"
      }
    },
    {
      "cell_type": "code",
      "source": [
        "\n",
        "# Chart - 10 visualization code\n",
        "#univariate analysis\n",
        "#To check how much percentage of customers repeats the hotel booking\n",
        "plt.figure(figsize=(7,7))\n",
        "plt.pie(df.is_repeated_guest.value_counts(),labels=['Not_repeated','Repeated'],explode=[0,0.3],autopct=\"%0.1f%%\",shadow=True,textprops={'fontsize':13})\n",
        "plt.legend(bbox_to_anchor=(1,1))\n",
        "plt.title('Guest repeating Status')\n",
        "plt.show()"
      ],
      "metadata": {
        "id": "GM7a4YP4phqQ"
      },
      "execution_count": null,
      "outputs": []
    },
    {
      "cell_type": "markdown",
      "source": [
        "##### 1. Why did you pick the specific chart?"
      ],
      "metadata": {
        "id": "1M8mcRywphqQ"
      }
    },
    {
      "cell_type": "markdown",
      "source": [
        "**\"I have chosen a pie chart to determine the percentage of guests who have booked the hotel repeatedly and the percentage of those on their first visit.\"**"
      ],
      "metadata": {
        "id": "8agQvks0phqQ"
      }
    },
    {
      "cell_type": "markdown",
      "source": [
        "##### 2. What is/are the insight(s) found from the chart?"
      ],
      "metadata": {
        "id": "tgIPom80phqQ"
      }
    },
    {
      "cell_type": "markdown",
      "source": [
        "**\"I found that only 4% of the guests have made repeated bookings over these three years.\"**"
      ],
      "metadata": {
        "id": "Qp13pnNzphqQ"
      }
    },
    {
      "cell_type": "markdown",
      "source": [
        "##### 3. Will the gained insights help creating a positive business impact?\n",
        "Are there any insights that lead to negative growth? Justify with specific reason."
      ],
      "metadata": {
        "id": "JMzcOPDDphqR"
      }
    },
    {
      "cell_type": "markdown",
      "source": [
        "**\"The hotel management can initiate membership plans and provide special offers for repeat customers.\"**"
      ],
      "metadata": {
        "id": "R4Ka1PC2phqR"
      }
    },
    {
      "cell_type": "markdown",
      "source": [
        "#### Chart - 11\n",
        "\n",
        "**Room assigned to customer**"
      ],
      "metadata": {
        "id": "x-EpHcCOp1ci"
      }
    },
    {
      "cell_type": "code",
      "source": [
        "# Chart - 11 visualization code\n",
        "#bivariate analysis\n",
        "#To find out Type of room assigned to the Guests w.r.t hotel type\n",
        "plt.figure(figsize=(17,7))\n",
        "sns.set_style('whitegrid')\n",
        "plt.rc('font',size=15)\n",
        "sns.countplot(x='assigned_room_type',data=df,hue='hotel')\n",
        "plt.legend(bbox_to_anchor=(.5,1))\n",
        "plt.title('Type of Room assigned to Guests w.r.t Hotel Type',fontsize=20)\n",
        "plt.xlabel('Room Type',fontsize=20)\n",
        "plt.ylabel('No. of bookings',fontsize=20)\n",
        "plt.show()"
      ],
      "metadata": {
        "id": "mAQTIvtqp1cj"
      },
      "execution_count": null,
      "outputs": []
    },
    {
      "cell_type": "markdown",
      "source": [
        "##### 1. Why did you pick the specific chart?"
      ],
      "metadata": {
        "id": "X_VqEhTip1ck"
      }
    },
    {
      "cell_type": "markdown",
      "source": [
        "**\"I have chosen a countplot to identify the most frequently assigned type of room to guests.\"**"
      ],
      "metadata": {
        "id": "-vsMzt_np1ck"
      }
    },
    {
      "cell_type": "markdown",
      "source": [
        "##### 2. What is/are the insight(s) found from the chart?"
      ],
      "metadata": {
        "id": "8zGJKyg5p1ck"
      }
    },
    {
      "cell_type": "markdown",
      "source": [
        "**\"It has been found that in both hotels, the A type of room is most frequently assigned to guests, followed by the D type room.\"**"
      ],
      "metadata": {
        "id": "ZYdMsrqVp1ck"
      }
    },
    {
      "cell_type": "markdown",
      "source": [
        "##### 3. Will the gained insights help creating a positive business impact?\n",
        "Are there any insights that lead to negative growth? Justify with specific reason."
      ],
      "metadata": {
        "id": "PVzmfK_Ep1ck"
      }
    },
    {
      "cell_type": "markdown",
      "source": [
        "**\"It has been found that among all room types, A and D are most commonly assigned to guests, possibly due to their economical nature and enhanced services.\"**"
      ],
      "metadata": {
        "id": "druuKYZpp1ck"
      }
    },
    {
      "cell_type": "markdown",
      "source": [
        "#### Chart - 12\n",
        "\n",
        "**Customer Type.**"
      ],
      "metadata": {
        "id": "n3dbpmDWp1ck"
      }
    },
    {
      "cell_type": "code",
      "source": [
        "\n",
        "# Chart - 12 visualization code\n",
        "#univariate Analysis\n",
        "#Find out which type of customer has highest booking\n",
        "plt.figure(figsize=(7,7))\n",
        "plt.pie(df.customer_type.value_counts(),labels=['Transient','Transient-Party','Contract','Group'],autopct=\"%0.1f%%\",shadow=True,textprops={'fontsize':13})\n",
        "plt.legend(bbox_to_anchor=(1,1))\n",
        "plt.title('Customer Type')\n",
        "plt.show()"
      ],
      "metadata": {
        "id": "bwevp1tKp1ck"
      },
      "execution_count": null,
      "outputs": []
    },
    {
      "cell_type": "markdown",
      "source": [
        "##### 1. Why did you pick the specific chart?"
      ],
      "metadata": {
        "id": "ylSl6qgtp1ck"
      }
    },
    {
      "cell_type": "markdown",
      "source": [
        "**\"I have selected a pie chart to determine the most common type of customer.\"**"
      ],
      "metadata": {
        "id": "m2xqNkiQp1ck"
      }
    },
    {
      "cell_type": "markdown",
      "source": [
        "##### 2. What is/are the insight(s) found from the chart?"
      ],
      "metadata": {
        "id": "ZWILFDl5p1ck"
      }
    },
    {
      "cell_type": "markdown",
      "source": [
        "**\"It has been found that the Transient type of customer has accounted for approximately 82% of bookings over these three years.\"**"
      ],
      "metadata": {
        "id": "x-lUsV2mp1ck"
      }
    },
    {
      "cell_type": "markdown",
      "source": [
        "##### 3. Will the gained insights help creating a positive business impact?\n",
        "Are there any insights that lead to negative growth? Justify with specific reason."
      ],
      "metadata": {
        "id": "M7G43BXep1ck"
      }
    },
    {
      "cell_type": "markdown",
      "source": [
        "\"**Here since very less people comes in groups so Hotel management can start any family/group package to attract more customers.**\""
      ],
      "metadata": {
        "id": "5wwDJXsLp1cl"
      }
    },
    {
      "cell_type": "markdown",
      "source": [
        "#### Chart - 13\n",
        "\n",
        "\n",
        "** ADR: Average Daily Rate**"
      ],
      "metadata": {
        "id": "Ag9LCva-p1cl"
      }
    },
    {
      "cell_type": "code",
      "source": [
        "# ADR: Average Daily Rate\n",
        "\n",
        "plt.figure(figsize=(12,6))\n",
        "my_plot=sns.lineplot(x='arrival_date_month', y='adr', hue='hotel', data= df)\n",
        "my_plot.set_xticklabels(my_plot.get_xticklabels(), rotation=45)\n",
        "plt.show()\n"
      ],
      "metadata": {
        "id": "EUfxeq9-p1cl"
      },
      "execution_count": null,
      "outputs": []
    },
    {
      "cell_type": "markdown",
      "source": [
        "##### 1. Why did you pick the specific chart?"
      ],
      "metadata": {
        "id": "E6MkPsBcp1cl"
      }
    },
    {
      "cell_type": "markdown",
      "source": [
        "**\"I have selected a lineplot to determine the average day rate for hotel room.\"**\n",
        "\n",
        "---\n",
        "\n"
      ],
      "metadata": {
        "id": "V22bRsFWp1cl"
      }
    },
    {
      "cell_type": "markdown",
      "source": [
        "##### 2. What is/are the insight(s) found from the chart?"
      ],
      "metadata": {
        "id": "2cELzS2fp1cl"
      }
    },
    {
      "cell_type": "markdown",
      "source": [
        "**\"For Resort Hotel, ADR is more expensive during July, August & September and for City Hotel, ADR is slightly more during May,June and August\"**"
      ],
      "metadata": {
        "id": "ozQPc2_Ip1cl"
      }
    },
    {
      "cell_type": "markdown",
      "source": [
        "##### 3. Will the gained insights help creating a positive business impact?\n",
        "Are there any insights that lead to negative growth? Justify with specific reason."
      ],
      "metadata": {
        "id": "3MPXvC8up1cl"
      }
    },
    {
      "cell_type": "markdown",
      "source": [
        "**\"Resort hotel management needs to start any special offer to attract more customers to generate more revenue.\"**"
      ],
      "metadata": {
        "id": "GL8l1tdLp1cl"
      }
    },
    {
      "cell_type": "markdown",
      "source": [
        "#### Chart - 14 - Correlation Heatmap"
      ],
      "metadata": {
        "id": "NC_X3p0fY2L0"
      }
    },
    {
      "cell_type": "code",
      "source": [
        "# Correlation Heatmap visualization code\n",
        "\n",
        "categorical_features=df1.select_dtypes(include=[np.object])\n",
        "categorical_features.columns"
      ],
      "metadata": {
        "id": "xyC9zolEZNRQ"
      },
      "execution_count": null,
      "outputs": []
    },
    {
      "cell_type": "markdown",
      "source": [
        "**So there is no need to find corelation of these columns.**"
      ],
      "metadata": {
        "id": "tFzXDzaw_NWf"
      }
    },
    {
      "cell_type": "code",
      "source": [
        "\n",
        "# Correlation Heatmap visualization code\n",
        "dcorr = df[['lead_time','previous_cancellations','previous_bookings_not_canceled','booking_changes','adr','required_car_parking_spaces','total_of_special_requests','total_stay','total_guests']]\n",
        "df_corr = dcorr.corr()\n",
        "f, ax = plt.subplots(figsize = (18,9))\n",
        "sns.heatmap(df_corr, annot = True, fmt='.2f', annot_kws =  {'size': 15}, vmax = .99, square = True)\n",
        "plt.show()"
      ],
      "metadata": {
        "id": "QFSkRL8D_QLt"
      },
      "execution_count": null,
      "outputs": []
    },
    {
      "cell_type": "markdown",
      "source": [
        "##### 1. Why did you pick the specific chart?"
      ],
      "metadata": {
        "id": "UV0SzAkaZNRQ"
      }
    },
    {
      "cell_type": "markdown",
      "source": [
        "**In order to find out co-relation between the variables.**"
      ],
      "metadata": {
        "id": "DVPuT8LYZNRQ"
      }
    },
    {
      "cell_type": "markdown",
      "source": [
        "##### 2. What is/are the insight(s) found from the chart?"
      ],
      "metadata": {
        "id": "YPEH6qLeZNRQ"
      }
    },
    {
      "cell_type": "markdown",
      "source": [
        "* Total stay and the lead time have positive correlation, that means if customer plans to stay for longer they will do booking in advance.\n",
        "* ADR is positively correlated with total_guests, more people means more revenue."
      ],
      "metadata": {
        "id": "bfSqtnDqZNRR"
      }
    },
    {
      "cell_type": "markdown",
      "source": [
        "#### Chart - 15 - Pair Plot"
      ],
      "metadata": {
        "id": "q29F0dvdveiT"
      }
    },
    {
      "cell_type": "code",
      "source": [
        "sns.pairplot(data = df[df['adr']<500][['hotel', 'total_stay', 'adr', 'total_guests']], hue ='hotel')"
      ],
      "metadata": {
        "id": "yu8DrJM-sBt-"
      },
      "execution_count": null,
      "outputs": []
    },
    {
      "cell_type": "code",
      "source": [
        "#scatter plot between adr and total_stay\n",
        "plt.figure(figsize = (18,9))\n",
        "sns.scatterplot(x= 'adr', y = 'total_stay', data = df)\n",
        "plt.show()\n",
        ""
      ],
      "metadata": {
        "id": "o58-TEIhveiU"
      },
      "execution_count": null,
      "outputs": []
    },
    {
      "cell_type": "markdown",
      "source": [
        "##### 1. Why did you pick the specific chart?"
      ],
      "metadata": {
        "id": "EXh0U9oCveiU"
      }
    },
    {
      "cell_type": "markdown",
      "source": [
        "**\"I selected a countplot to identify the peak month of bookings.\"**"
      ],
      "metadata": {
        "id": "eMmPjTByveiU"
      }
    },
    {
      "cell_type": "markdown",
      "source": [
        "##### 2. What is/are the insight(s) found from the chart?"
      ],
      "metadata": {
        "id": "22aHeOlLveiV"
      }
    },
    {
      "cell_type": "markdown",
      "source": [
        "**\"It has been found that July and August are the peak months for bookings.\"**"
      ],
      "metadata": {
        "id": "uPQ8RGwHveiV"
      }
    },
    {
      "cell_type": "markdown",
      "source": [
        "## **5. Solution to Business Objective**"
      ],
      "metadata": {
        "id": "JcMwzZxoAimU"
      }
    },
    {
      "cell_type": "markdown",
      "source": [
        "#### What do you suggest the client to achieve Business Objective ?\n",
        "\n",
        "\n",
        "\n"
      ],
      "metadata": {
        "id": "8G2x9gOozGDZ"
      }
    },
    {
      "cell_type": "markdown",
      "source": [
        "***My suggestion for client to achieve Buisness Objective is :***\n",
        "\n",
        "1. The hotel management can offer special packages, including meals and other facilities, to attract more travelers.\n",
        "2. Implementing a membership plan with special discounts can help in customer retention.\n",
        "3. Investigate the reasons behind booking cancellations and take measures to minimize them.\n",
        "4. Utilize social media for advertising, especially during peak seasons.\n",
        "5. Collaborate with online/offline travel agencies and other booking partners to expand customer reach.\n",
        "6. Promote bookings through the company website or app for better control.\n",
        "7. Introduce attractive offers for group bookings and longer stays.\n",
        "8. Dedicate efforts to analyze customer feedback to enhance facilities and services.\n",
        "9. During the offseason, provide special discounts to attract customers.\n",
        "Consider making deposits compulsory to secure bookings.\"\n",
        "10. Majority of the hotels booked are city hotel. Definitely need to spend the most targeting fund on those hotel.\n",
        "11. We also realise that the high rate of cancellations can be due high no deposit policies.\n",
        "12. We should also target months between May to Aug. Those are peak months due to the summer period.\n",
        "13. Majority of the guests are from Western Europe. We should spend a significant amount of our budget on those area.\n",
        "14.Given that we do not have repeated guests, we should target our advertisement on guests to increase returning guests.\n",
        "15. Set Non-refundable Rates, Collect deposits, and implement more rigid cancellation policies.\n",
        "16. Encourage Direct bookings by offering special discounts\n",
        "17. Monitor where the cancellations are coming from such as Market Segment, distribution channels, etc."
      ],
      "metadata": {
        "id": "pASKb0qOza21"
      }
    },
    {
      "cell_type": "markdown",
      "source": [
        "# **Conclusion**"
      ],
      "metadata": {
        "id": "gCX9965dhzqZ"
      }
    },
    {
      "cell_type": "markdown",
      "source": [
        "\n",
        "\n",
        "\n",
        "* City hotels receive more guests throughout the year. Resort hotels appear to be slightly closer to city hotels in the summer when comparing proportions..\n",
        "* Bed & Breakfast is the most preferred meal type chosen by customers.\n",
        "* The peak of bookings for both hotels occurred in 2016.\n",
        "* July and August were the peak booking months for both hotels.\n",
        "* The average preferred days of stay in the hotel is 2-4 days.\n",
        "* The majority of guests visiting the hotel are from Portugal, Great Britain, and France.\n",
        "* Room Type A is the most preferred room assigned to guests.\n",
        "* Most guests are visiting the hotel for the first time.\n",
        "* Approximately 25-30% of bookings are canceled, with more cancellations from the City Hotel.\n",
        "* The prices in the Resort hotel are much higher during the month of August. There is summer season there in portugal at that time. The price of the city hotel varies less and is most expensive during may and september.\n",
        "* Repeated guests do not cancel their reservations. Of course there are some exceptions. Also most of the customers are not repeated guests.\n",
        "* The majority of customers have opted for no deposit.\n",
        "* Most guests don't have any special requests.\n",
        "* Online travel agents have a larger market segment for bookings.\n",
        "* Total stay and lead time are positively correlated.\n",
        "* Customers with longer stays tend to get better deals."
      ],
      "metadata": {
        "id": "Fjb1IsQkh3yE"
      }
    },
    {
      "cell_type": "markdown",
      "source": [
        "### ***Hurrah! You have successfully completed your EDA Capstone Project !!!***"
      ],
      "metadata": {
        "id": "gIfDvo9L0UH2"
      }
    }
  ]
}